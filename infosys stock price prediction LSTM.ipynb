{
  "nbformat": 4,
  "nbformat_minor": 0,
  "metadata": {
    "colab": {
      "provenance": []
    },
    "kernelspec": {
      "name": "python3",
      "display_name": "Python 3"
    },
    "language_info": {
      "name": "python"
    },
    "accelerator": "GPU",
    "gpuClass": "premium"
  },
  "cells": [
    {
      "cell_type": "markdown",
      "source": [
        " **INFOSYS STOCK PREDICTION USING NEURAL NETWORK**"
      ],
      "metadata": {
        "id": "EyF8mZQFi5ou"
      }
    },
    {
      "cell_type": "markdown",
      "source": [
        "**In this case study, I will see how LSTMs can be used to learn the patterns in the stock prices and using this template you will be able to predict tomorrow’s price of a stock based on the last 10 days prices.**"
      ],
      "metadata": {
        "id": "O6dodA0NpJ4F"
      }
    },
    {
      "cell_type": "code",
      "source": [
        "import pandas as pd\n",
        "import numpy as np\n"
      ],
      "metadata": {
        "id": "Y874mUj4o-bq"
      },
      "execution_count": 1,
      "outputs": []
    },
    {
      "cell_type": "code",
      "source": [
        "StockData=pd.read_csv(\"/content/drive/MyDrive/INFY.csv\")\n",
        "StockData.tail(25)"
      ],
      "metadata": {
        "colab": {
          "base_uri": "https://localhost:8080/",
          "height": 833
        },
        "id": "YY17gTbCo-em",
        "outputId": "c03eca8d-db4d-4b32-fd58-8aef9ccad798"
      },
      "execution_count": 3,
      "outputs": [
        {
          "output_type": "execute_result",
          "data": {
            "text/plain": [
              "            Date       Open       High        Low      Close  Adj Close  \\\n",
              "5762  2022-11-25  19.830000  20.020000  19.780001  19.920000  19.920000   \n",
              "5763  2022-11-28  19.900000  19.959999  19.610001  19.629999  19.629999   \n",
              "5764  2022-11-29  19.719999  19.889999  19.670000  19.709999  19.709999   \n",
              "5765  2022-11-30  19.840000  20.360001  19.770000  20.350000  20.350000   \n",
              "5766  2022-12-01  20.400000  20.570000  20.250000  20.510000  20.510000   \n",
              "5767  2022-12-02  20.100000  20.290001  19.860001  20.190001  20.190001   \n",
              "5768  2022-12-05  20.040001  20.150000  19.590000  19.750000  19.750000   \n",
              "5769  2022-12-06  19.490000  19.580000  19.180000  19.410000  19.410000   \n",
              "5770  2022-12-07  19.350000  19.430000  19.230000  19.389999  19.389999   \n",
              "5771  2022-12-08  19.540001  19.820000  19.490000  19.580000  19.580000   \n",
              "5772  2022-12-09  18.920000  19.020000  18.410000  18.490000  18.490000   \n",
              "5773  2022-12-12  18.490000  18.530001  18.360001  18.410000  18.410000   \n",
              "5774  2022-12-13  19.010000  19.150000  18.629999  18.730000  18.730000   \n",
              "5775  2022-12-14  18.750000  18.969999  18.600000  18.719999  18.719999   \n",
              "5776  2022-12-15  18.330000  18.360001  18.010000  18.170000  18.170000   \n",
              "5777  2022-12-16  18.110001  18.219999  17.690001  17.730000  17.730000   \n",
              "5778  2022-12-19  17.860001  17.990000  17.790001  17.879999  17.879999   \n",
              "5779  2022-12-20  17.950001  18.209999  17.900000  18.059999  18.059999   \n",
              "5780  2022-12-21  18.020000  18.270000  18.020000  18.219999  18.219999   \n",
              "5781  2022-12-22  18.040001  18.080000  17.730000  17.930000  17.930000   \n",
              "5782  2022-12-23  17.820000  17.950001  17.730000  17.920000  17.920000   \n",
              "5783  2022-12-27  18.010000  18.090000  17.840000  18.030001  18.030001   \n",
              "5784  2022-12-28  18.049999  18.190001  17.920000  17.959999  17.959999   \n",
              "5785  2022-12-29  18.090000  18.379999  18.090000  18.240000  18.240000   \n",
              "5786  2022-12-30  18.090000  18.180000  17.850000  18.010000  18.010000   \n",
              "\n",
              "        Volume  \n",
              "5762   3161100  \n",
              "5763   4043200  \n",
              "5764   5516500  \n",
              "5765   6994600  \n",
              "5766   5586800  \n",
              "5767   5674600  \n",
              "5768   7650000  \n",
              "5769  11673400  \n",
              "5770   8087400  \n",
              "5771   6872000  \n",
              "5772  12510700  \n",
              "5773   6741000  \n",
              "5774  13184600  \n",
              "5775   7721700  \n",
              "5776   6568600  \n",
              "5777  15368300  \n",
              "5778  10765900  \n",
              "5779   6483900  \n",
              "5780   4228200  \n",
              "5781   7911000  \n",
              "5782   3685100  \n",
              "5783   4943200  \n",
              "5784   5872100  \n",
              "5785   4971600  \n",
              "5786   4468300  "
            ],
            "text/html": [
              "\n",
              "  <div id=\"df-c1c13d9c-c0df-41c4-9572-82e30b0d1442\">\n",
              "    <div class=\"colab-df-container\">\n",
              "      <div>\n",
              "<style scoped>\n",
              "    .dataframe tbody tr th:only-of-type {\n",
              "        vertical-align: middle;\n",
              "    }\n",
              "\n",
              "    .dataframe tbody tr th {\n",
              "        vertical-align: top;\n",
              "    }\n",
              "\n",
              "    .dataframe thead th {\n",
              "        text-align: right;\n",
              "    }\n",
              "</style>\n",
              "<table border=\"1\" class=\"dataframe\">\n",
              "  <thead>\n",
              "    <tr style=\"text-align: right;\">\n",
              "      <th></th>\n",
              "      <th>Date</th>\n",
              "      <th>Open</th>\n",
              "      <th>High</th>\n",
              "      <th>Low</th>\n",
              "      <th>Close</th>\n",
              "      <th>Adj Close</th>\n",
              "      <th>Volume</th>\n",
              "    </tr>\n",
              "  </thead>\n",
              "  <tbody>\n",
              "    <tr>\n",
              "      <th>5762</th>\n",
              "      <td>2022-11-25</td>\n",
              "      <td>19.830000</td>\n",
              "      <td>20.020000</td>\n",
              "      <td>19.780001</td>\n",
              "      <td>19.920000</td>\n",
              "      <td>19.920000</td>\n",
              "      <td>3161100</td>\n",
              "    </tr>\n",
              "    <tr>\n",
              "      <th>5763</th>\n",
              "      <td>2022-11-28</td>\n",
              "      <td>19.900000</td>\n",
              "      <td>19.959999</td>\n",
              "      <td>19.610001</td>\n",
              "      <td>19.629999</td>\n",
              "      <td>19.629999</td>\n",
              "      <td>4043200</td>\n",
              "    </tr>\n",
              "    <tr>\n",
              "      <th>5764</th>\n",
              "      <td>2022-11-29</td>\n",
              "      <td>19.719999</td>\n",
              "      <td>19.889999</td>\n",
              "      <td>19.670000</td>\n",
              "      <td>19.709999</td>\n",
              "      <td>19.709999</td>\n",
              "      <td>5516500</td>\n",
              "    </tr>\n",
              "    <tr>\n",
              "      <th>5765</th>\n",
              "      <td>2022-11-30</td>\n",
              "      <td>19.840000</td>\n",
              "      <td>20.360001</td>\n",
              "      <td>19.770000</td>\n",
              "      <td>20.350000</td>\n",
              "      <td>20.350000</td>\n",
              "      <td>6994600</td>\n",
              "    </tr>\n",
              "    <tr>\n",
              "      <th>5766</th>\n",
              "      <td>2022-12-01</td>\n",
              "      <td>20.400000</td>\n",
              "      <td>20.570000</td>\n",
              "      <td>20.250000</td>\n",
              "      <td>20.510000</td>\n",
              "      <td>20.510000</td>\n",
              "      <td>5586800</td>\n",
              "    </tr>\n",
              "    <tr>\n",
              "      <th>5767</th>\n",
              "      <td>2022-12-02</td>\n",
              "      <td>20.100000</td>\n",
              "      <td>20.290001</td>\n",
              "      <td>19.860001</td>\n",
              "      <td>20.190001</td>\n",
              "      <td>20.190001</td>\n",
              "      <td>5674600</td>\n",
              "    </tr>\n",
              "    <tr>\n",
              "      <th>5768</th>\n",
              "      <td>2022-12-05</td>\n",
              "      <td>20.040001</td>\n",
              "      <td>20.150000</td>\n",
              "      <td>19.590000</td>\n",
              "      <td>19.750000</td>\n",
              "      <td>19.750000</td>\n",
              "      <td>7650000</td>\n",
              "    </tr>\n",
              "    <tr>\n",
              "      <th>5769</th>\n",
              "      <td>2022-12-06</td>\n",
              "      <td>19.490000</td>\n",
              "      <td>19.580000</td>\n",
              "      <td>19.180000</td>\n",
              "      <td>19.410000</td>\n",
              "      <td>19.410000</td>\n",
              "      <td>11673400</td>\n",
              "    </tr>\n",
              "    <tr>\n",
              "      <th>5770</th>\n",
              "      <td>2022-12-07</td>\n",
              "      <td>19.350000</td>\n",
              "      <td>19.430000</td>\n",
              "      <td>19.230000</td>\n",
              "      <td>19.389999</td>\n",
              "      <td>19.389999</td>\n",
              "      <td>8087400</td>\n",
              "    </tr>\n",
              "    <tr>\n",
              "      <th>5771</th>\n",
              "      <td>2022-12-08</td>\n",
              "      <td>19.540001</td>\n",
              "      <td>19.820000</td>\n",
              "      <td>19.490000</td>\n",
              "      <td>19.580000</td>\n",
              "      <td>19.580000</td>\n",
              "      <td>6872000</td>\n",
              "    </tr>\n",
              "    <tr>\n",
              "      <th>5772</th>\n",
              "      <td>2022-12-09</td>\n",
              "      <td>18.920000</td>\n",
              "      <td>19.020000</td>\n",
              "      <td>18.410000</td>\n",
              "      <td>18.490000</td>\n",
              "      <td>18.490000</td>\n",
              "      <td>12510700</td>\n",
              "    </tr>\n",
              "    <tr>\n",
              "      <th>5773</th>\n",
              "      <td>2022-12-12</td>\n",
              "      <td>18.490000</td>\n",
              "      <td>18.530001</td>\n",
              "      <td>18.360001</td>\n",
              "      <td>18.410000</td>\n",
              "      <td>18.410000</td>\n",
              "      <td>6741000</td>\n",
              "    </tr>\n",
              "    <tr>\n",
              "      <th>5774</th>\n",
              "      <td>2022-12-13</td>\n",
              "      <td>19.010000</td>\n",
              "      <td>19.150000</td>\n",
              "      <td>18.629999</td>\n",
              "      <td>18.730000</td>\n",
              "      <td>18.730000</td>\n",
              "      <td>13184600</td>\n",
              "    </tr>\n",
              "    <tr>\n",
              "      <th>5775</th>\n",
              "      <td>2022-12-14</td>\n",
              "      <td>18.750000</td>\n",
              "      <td>18.969999</td>\n",
              "      <td>18.600000</td>\n",
              "      <td>18.719999</td>\n",
              "      <td>18.719999</td>\n",
              "      <td>7721700</td>\n",
              "    </tr>\n",
              "    <tr>\n",
              "      <th>5776</th>\n",
              "      <td>2022-12-15</td>\n",
              "      <td>18.330000</td>\n",
              "      <td>18.360001</td>\n",
              "      <td>18.010000</td>\n",
              "      <td>18.170000</td>\n",
              "      <td>18.170000</td>\n",
              "      <td>6568600</td>\n",
              "    </tr>\n",
              "    <tr>\n",
              "      <th>5777</th>\n",
              "      <td>2022-12-16</td>\n",
              "      <td>18.110001</td>\n",
              "      <td>18.219999</td>\n",
              "      <td>17.690001</td>\n",
              "      <td>17.730000</td>\n",
              "      <td>17.730000</td>\n",
              "      <td>15368300</td>\n",
              "    </tr>\n",
              "    <tr>\n",
              "      <th>5778</th>\n",
              "      <td>2022-12-19</td>\n",
              "      <td>17.860001</td>\n",
              "      <td>17.990000</td>\n",
              "      <td>17.790001</td>\n",
              "      <td>17.879999</td>\n",
              "      <td>17.879999</td>\n",
              "      <td>10765900</td>\n",
              "    </tr>\n",
              "    <tr>\n",
              "      <th>5779</th>\n",
              "      <td>2022-12-20</td>\n",
              "      <td>17.950001</td>\n",
              "      <td>18.209999</td>\n",
              "      <td>17.900000</td>\n",
              "      <td>18.059999</td>\n",
              "      <td>18.059999</td>\n",
              "      <td>6483900</td>\n",
              "    </tr>\n",
              "    <tr>\n",
              "      <th>5780</th>\n",
              "      <td>2022-12-21</td>\n",
              "      <td>18.020000</td>\n",
              "      <td>18.270000</td>\n",
              "      <td>18.020000</td>\n",
              "      <td>18.219999</td>\n",
              "      <td>18.219999</td>\n",
              "      <td>4228200</td>\n",
              "    </tr>\n",
              "    <tr>\n",
              "      <th>5781</th>\n",
              "      <td>2022-12-22</td>\n",
              "      <td>18.040001</td>\n",
              "      <td>18.080000</td>\n",
              "      <td>17.730000</td>\n",
              "      <td>17.930000</td>\n",
              "      <td>17.930000</td>\n",
              "      <td>7911000</td>\n",
              "    </tr>\n",
              "    <tr>\n",
              "      <th>5782</th>\n",
              "      <td>2022-12-23</td>\n",
              "      <td>17.820000</td>\n",
              "      <td>17.950001</td>\n",
              "      <td>17.730000</td>\n",
              "      <td>17.920000</td>\n",
              "      <td>17.920000</td>\n",
              "      <td>3685100</td>\n",
              "    </tr>\n",
              "    <tr>\n",
              "      <th>5783</th>\n",
              "      <td>2022-12-27</td>\n",
              "      <td>18.010000</td>\n",
              "      <td>18.090000</td>\n",
              "      <td>17.840000</td>\n",
              "      <td>18.030001</td>\n",
              "      <td>18.030001</td>\n",
              "      <td>4943200</td>\n",
              "    </tr>\n",
              "    <tr>\n",
              "      <th>5784</th>\n",
              "      <td>2022-12-28</td>\n",
              "      <td>18.049999</td>\n",
              "      <td>18.190001</td>\n",
              "      <td>17.920000</td>\n",
              "      <td>17.959999</td>\n",
              "      <td>17.959999</td>\n",
              "      <td>5872100</td>\n",
              "    </tr>\n",
              "    <tr>\n",
              "      <th>5785</th>\n",
              "      <td>2022-12-29</td>\n",
              "      <td>18.090000</td>\n",
              "      <td>18.379999</td>\n",
              "      <td>18.090000</td>\n",
              "      <td>18.240000</td>\n",
              "      <td>18.240000</td>\n",
              "      <td>4971600</td>\n",
              "    </tr>\n",
              "    <tr>\n",
              "      <th>5786</th>\n",
              "      <td>2022-12-30</td>\n",
              "      <td>18.090000</td>\n",
              "      <td>18.180000</td>\n",
              "      <td>17.850000</td>\n",
              "      <td>18.010000</td>\n",
              "      <td>18.010000</td>\n",
              "      <td>4468300</td>\n",
              "    </tr>\n",
              "  </tbody>\n",
              "</table>\n",
              "</div>\n",
              "      <button class=\"colab-df-convert\" onclick=\"convertToInteractive('df-c1c13d9c-c0df-41c4-9572-82e30b0d1442')\"\n",
              "              title=\"Convert this dataframe to an interactive table.\"\n",
              "              style=\"display:none;\">\n",
              "        \n",
              "  <svg xmlns=\"http://www.w3.org/2000/svg\" height=\"24px\"viewBox=\"0 0 24 24\"\n",
              "       width=\"24px\">\n",
              "    <path d=\"M0 0h24v24H0V0z\" fill=\"none\"/>\n",
              "    <path d=\"M18.56 5.44l.94 2.06.94-2.06 2.06-.94-2.06-.94-.94-2.06-.94 2.06-2.06.94zm-11 1L8.5 8.5l.94-2.06 2.06-.94-2.06-.94L8.5 2.5l-.94 2.06-2.06.94zm10 10l.94 2.06.94-2.06 2.06-.94-2.06-.94-.94-2.06-.94 2.06-2.06.94z\"/><path d=\"M17.41 7.96l-1.37-1.37c-.4-.4-.92-.59-1.43-.59-.52 0-1.04.2-1.43.59L10.3 9.45l-7.72 7.72c-.78.78-.78 2.05 0 2.83L4 21.41c.39.39.9.59 1.41.59.51 0 1.02-.2 1.41-.59l7.78-7.78 2.81-2.81c.8-.78.8-2.07 0-2.86zM5.41 20L4 18.59l7.72-7.72 1.47 1.35L5.41 20z\"/>\n",
              "  </svg>\n",
              "      </button>\n",
              "      \n",
              "  <style>\n",
              "    .colab-df-container {\n",
              "      display:flex;\n",
              "      flex-wrap:wrap;\n",
              "      gap: 12px;\n",
              "    }\n",
              "\n",
              "    .colab-df-convert {\n",
              "      background-color: #E8F0FE;\n",
              "      border: none;\n",
              "      border-radius: 50%;\n",
              "      cursor: pointer;\n",
              "      display: none;\n",
              "      fill: #1967D2;\n",
              "      height: 32px;\n",
              "      padding: 0 0 0 0;\n",
              "      width: 32px;\n",
              "    }\n",
              "\n",
              "    .colab-df-convert:hover {\n",
              "      background-color: #E2EBFA;\n",
              "      box-shadow: 0px 1px 2px rgba(60, 64, 67, 0.3), 0px 1px 3px 1px rgba(60, 64, 67, 0.15);\n",
              "      fill: #174EA6;\n",
              "    }\n",
              "\n",
              "    [theme=dark] .colab-df-convert {\n",
              "      background-color: #3B4455;\n",
              "      fill: #D2E3FC;\n",
              "    }\n",
              "\n",
              "    [theme=dark] .colab-df-convert:hover {\n",
              "      background-color: #434B5C;\n",
              "      box-shadow: 0px 1px 3px 1px rgba(0, 0, 0, 0.15);\n",
              "      filter: drop-shadow(0px 1px 2px rgba(0, 0, 0, 0.3));\n",
              "      fill: #FFFFFF;\n",
              "    }\n",
              "  </style>\n",
              "\n",
              "      <script>\n",
              "        const buttonEl =\n",
              "          document.querySelector('#df-c1c13d9c-c0df-41c4-9572-82e30b0d1442 button.colab-df-convert');\n",
              "        buttonEl.style.display =\n",
              "          google.colab.kernel.accessAllowed ? 'block' : 'none';\n",
              "\n",
              "        async function convertToInteractive(key) {\n",
              "          const element = document.querySelector('#df-c1c13d9c-c0df-41c4-9572-82e30b0d1442');\n",
              "          const dataTable =\n",
              "            await google.colab.kernel.invokeFunction('convertToInteractive',\n",
              "                                                     [key], {});\n",
              "          if (!dataTable) return;\n",
              "\n",
              "          const docLinkHtml = 'Like what you see? Visit the ' +\n",
              "            '<a target=\"_blank\" href=https://colab.research.google.com/notebooks/data_table.ipynb>data table notebook</a>'\n",
              "            + ' to learn more about interactive tables.';\n",
              "          element.innerHTML = '';\n",
              "          dataTable['output_type'] = 'display_data';\n",
              "          await google.colab.output.renderOutput(dataTable, element);\n",
              "          const docLink = document.createElement('div');\n",
              "          docLink.innerHTML = docLinkHtml;\n",
              "          element.appendChild(docLink);\n",
              "        }\n",
              "      </script>\n",
              "    </div>\n",
              "  </div>\n",
              "  "
            ]
          },
          "metadata": {},
          "execution_count": 3
        }
      ]
    },
    {
      "cell_type": "markdown",
      "source": [
        "**Visualizing the stock prices movement**"
      ],
      "metadata": {
        "id": "CKrndA66qmP2"
      }
    },
    {
      "cell_type": "code",
      "source": [
        "# Creating a column as date\n",
        "StockData['Date']=StockData.index\n",
        " \n",
        "# Plotting the stock prices\n",
        "%matplotlib inline\n",
        "StockData.plot(x='Date', y='Close', kind='line', figsize=(20,6), rot=20)"
      ],
      "metadata": {
        "colab": {
          "base_uri": "https://localhost:8080/",
          "height": 413
        },
        "id": "q9VoIx8yo-h5",
        "outputId": "d175a5be-cf36-43f9-f854-632772bec16e"
      },
      "execution_count": 4,
      "outputs": [
        {
          "output_type": "execute_result",
          "data": {
            "text/plain": [
              "<Axes: xlabel='Date'>"
            ]
          },
          "metadata": {},
          "execution_count": 4
        },
        {
          "output_type": "display_data",
          "data": {
            "text/plain": [
              "<Figure size 1440x432 with 1 Axes>"
            ],
            "image/png": "[encoded data removed]"
          },
          "metadata": {
            "needs_background": "light"
          }
        }
      ]
    },
    {
      "cell_type": "markdown",
      "source": [
        "**Preparing the data:**\n",
        "\n",
        "The LSTM model will need data input in the form of X Vs y. Where the X will represent the last 10 day’s prices and y will represent the 11th-day price.\n",
        "\n",
        "Since LSTM is a Neural network-based algorithm, standardizing or normalizing the data is mandatory for a fast and more accurate fit."
      ],
      "metadata": {
        "id": "l8y1VNLvs-HJ"
      }
    },
    {
      "cell_type": "code",
      "source": [
        "# Extracting the closing prices of each day\n",
        "FullData=StockData[['Close']].values\n",
        "print(FullData[0:5])\n",
        " \n",
        "# Feature Scaling for fast training of neural networks\n",
        "from sklearn.preprocessing import StandardScaler, MinMaxScaler\n",
        " \n",
        "# Choosing between Standardization or normalization\n",
        "#sc = StandardScaler()\n",
        "sc=MinMaxScaler()\n",
        " \n",
        "DataScaler = sc.fit(FullData)\n",
        "X=DataScaler.transform(FullData)\n",
        "#X=FullData\n",
        " \n",
        "print('After Normalization:')\n",
        "X[0:5]"
      ],
      "metadata": {
        "colab": {
          "base_uri": "https://localhost:8080/"
        },
        "id": "dnQsyk0Zo-mX",
        "outputId": "ccc11656-95c0-445f-8367-939524200346"
      },
      "execution_count": 5,
      "outputs": [
        {
          "output_type": "stream",
          "name": "stdout",
          "text": [
            "[[5.767578]\n",
            " [5.8125  ]\n",
            " [5.765625]\n",
            " [5.15625 ]\n",
            " [5.515625]]\n",
            "After Normalization:\n"
          ]
        },
        {
          "output_type": "execute_result",
          "data": {
            "text/plain": [
              "array([[0.18816272],\n",
              "       [0.18994759],\n",
              "       [0.18808512],\n",
              "       [0.16387295],\n",
              "       [0.17815192]])"
            ]
          },
          "metadata": {},
          "execution_count": 5
        }
      ]
    },
    {
      "cell_type": "markdown",
      "source": [
        "**Preparing the data for LSTM:**"
      ],
      "metadata": {
        "id": "48EpyMRGtqsI"
      }
    },
    {
      "cell_type": "code",
      "source": [
        "# split into samples\n",
        "X_samples = list()\n",
        "y_samples = list()\n",
        " \n",
        "NumerOfRows = len(X)\n",
        "TimeSteps=10  # next day's Price Prediction is based on last how many past day's prices\n",
        " \n",
        "# Iterate thru the values to create combinations\n",
        "for i in range(TimeSteps , NumerOfRows , 1):\n",
        "    x_sample = X[i-TimeSteps:i]\n",
        "    y_sample = X[i]\n",
        "    X_samples.append(x_sample)\n",
        "    y_samples.append(y_sample)\n",
        " \n",
        "################################################\n",
        "# Reshape the Input as a 3D (number of samples, Time Steps, Features)\n",
        "X_data=np.array(X_samples)\n",
        "X_data=X_data.reshape(X_data.shape[0],X_data.shape[1], 1)\n",
        "print('\\nInput Data shape:')\n",
        "print(X_data.shape)\n",
        "\n",
        " \n",
        "# We do not reshape y as a 3D data  as it is supposed to be a single column only\n",
        "y_data=np.array(y_samples)\n",
        "y_data=y_data.reshape(y_data.shape[0], 1)\n",
        "print('\\nOutput Data shape:')\n",
        "print(y_data.shape)"
      ],
      "metadata": {
        "colab": {
          "base_uri": "https://localhost:8080/"
        },
        "id": "DXsMQVmNo-pR",
        "outputId": "4a7dbfad-f680-4768-9c58-eb8ca9011a2e"
      },
      "execution_count": 6,
      "outputs": [
        {
          "output_type": "stream",
          "name": "stdout",
          "text": [
            "\n",
            "Input Data shape:\n",
            "(5777, 10, 1)\n",
            "\n",
            "Output Data shape:\n",
            "(5777, 1)\n"
          ]
        }
      ]
    },
    {
      "cell_type": "markdown",
      "source": [
        "**Splitting the data into training and testing:**\n",
        "\n",
        "Keeping last few days of data to test the learnings of the model and rest for training the model.\n",
        "\n",
        "Here I am choosing Last 5 days as testing."
      ],
      "metadata": {
        "id": "LH80q7WIuNmz"
      }
    },
    {
      "cell_type": "code",
      "source": [
        "# Choosing the number of testing data records\n",
        "TestingRecords=5\n",
        " \n",
        "# Splitting the data into train and test\n",
        "X_train=X_data[:-TestingRecords]\n",
        "X_test=X_data[-TestingRecords:]\n",
        "y_train=y_data[:-TestingRecords]\n",
        "y_test=y_data[-TestingRecords:]\n",
        " \n",
        "############################################\n",
        " \n",
        "# Printing the shape of training and testing\n",
        "print('Training Data shape:')\n",
        "print(X_train.shape)\n",
        "print(y_train.shape)\n",
        "print('Testing Data shape:')\n",
        "print(X_test.shape)\n",
        "print(y_test.shape)"
      ],
      "metadata": {
        "colab": {
          "base_uri": "https://localhost:8080/"
        },
        "id": "R7hHk-o5o-sn",
        "outputId": "e5dea412-dd27-4362-80a8-222a51f02411"
      },
      "execution_count": 7,
      "outputs": [
        {
          "output_type": "stream",
          "name": "stdout",
          "text": [
            "Training Data shape:\n",
            "(5772, 10, 1)\n",
            "(5772, 1)\n",
            "Testing Data shape:\n",
            "(5, 10, 1)\n",
            "(5, 1)\n"
          ]
        }
      ]
    },
    {
      "cell_type": "markdown",
      "source": [
        "**Visualizing the input and output data for LSTM:**\n",
        "\n",
        "Printing some sample input and output values to help you visualize how the LSTM model will learn the prices.\n",
        "\n",
        "You can see the input is a 3D array of the last 10 prices and the output is a 1D array of the next price.\n",
        "\n"
      ],
      "metadata": {
        "id": "uabmvhK8u_2y"
      }
    },
    {
      "cell_type": "code",
      "source": [
        "# Visualizing the input and output being sent to the LSTM model\n",
        "for inp, out in zip(X_train[0:2], y_train[0:2]):\n",
        "    print(inp,'--', out)"
      ],
      "metadata": {
        "colab": {
          "base_uri": "https://localhost:8080/"
        },
        "id": "mZrzOYT0o-v-",
        "outputId": "87d1a5aa-e37b-493a-fbe3-8f1720793dc1"
      },
      "execution_count": 8,
      "outputs": [
        {
          "output_type": "stream",
          "name": "stdout",
          "text": [
            "[[0.18816272]\n",
            " [0.18994759]\n",
            " [0.18808512]\n",
            " [0.16387295]\n",
            " [0.17815192]\n",
            " [0.18125605]\n",
            " [0.16821872]\n",
            " [0.16449377]\n",
            " [0.15642305]\n",
            " [0.14408415]] -- [0.15037]\n",
            "[[0.18994759]\n",
            " [0.18808512]\n",
            " [0.16387295]\n",
            " [0.17815192]\n",
            " [0.18125605]\n",
            " [0.16821872]\n",
            " [0.16449377]\n",
            " [0.15642305]\n",
            " [0.14408415]\n",
            " [0.15037   ]] -- [0.1475763]\n"
          ]
        }
      ]
    },
    {
      "cell_type": "markdown",
      "source": [
        "**Creating the Deep Learning LSTM model:**\n",
        "\n",
        "We have use the LSTM function instead of Dense to define the hidden layers. The output layer has one neuron as we are predicting the next day price, and if we want to predict for multiple days, then the input data and neurons will be changed and is equal to the number of days of forecast."
      ],
      "metadata": {
        "id": "xk6dG9c3vcAt"
      }
    },
    {
      "cell_type": "code",
      "source": [
        "# Defining Input shapes for LSTM\n",
        "TimeSteps=X_train.shape[1]\n",
        "TotalFeatures=X_train.shape[2]\n",
        "print(\"Number of TimeSteps:\", TimeSteps)\n",
        "print(\"Number of Features:\", TotalFeatures)"
      ],
      "metadata": {
        "colab": {
          "base_uri": "https://localhost:8080/"
        },
        "id": "zv8yaEEbo-0M",
        "outputId": "52b973f3-1f81-426d-e715-70f7c429b776"
      },
      "execution_count": 9,
      "outputs": [
        {
          "output_type": "stream",
          "name": "stdout",
          "text": [
            "Number of TimeSteps: 10\n",
            "Number of Features: 1\n"
          ]
        }
      ]
    },
    {
      "cell_type": "markdown",
      "source": [
        "In the below code snippet I have used three hidden LSTM layers and one output layer. One can choose more layers if we don’t get accuracy for the data. Similarly we can increase or decrease the number of neurons in the hidden layer.\n",
        "\n",
        "Also, the more neurons and layers you use, the slower the model becomes. Because now there are many more computations to be done.\n",
        "Each layer has some hyperparameters which needs to be tuned.\n",
        "\n",
        "**Some of the important hyperparameters of LSTM are below:**\n",
        "\n",
        "**1) units=10:**  we are creating a layer with ten neurons in it. Each of these five neurons will be receiving the values of inputs.\n",
        "\n",
        "**2) input_shape** = (TimeSteps, TotalFeatures): The input expected by LSTM is in 3D format. Our training data has a shape of (5772, 10, 1) this is in the form of (number of samples, time steps, number of features). This means we have 5772 examples to learn in training data, each example looks back 10-steps in time like what was the stock price yesterday, the day before yesterday so on till last 10 days. This is known as Time steps. The last number ‘1’ represents the number of features. Here we are using just one column ‘Closing Stock Price’ hence its equal to ‘1’.\n",
        "\n",
        "**3) kernel_initializer=’uniform’:** When the Neurons start their computation, some algorithm has to decide the value for each weight. This parameter specifies that. You can choose different values for it like ‘normal’ or ‘glorot_uniform’.\n",
        "\n",
        "**4) activation=’relu’**: This specifies the activation function for the calculations inside each neuron. You can choose values like ‘relu’, ‘tanh’, ‘sigmoid’, etc.\n",
        "\n",
        "**5) return_sequences=True**: LSTMs backpropagate thru time, hence they return the values of the output from each time step to the next hidden layer. This keeps the expected input of the next hidden layer in the 3D format. This parameter is False for the last hidden layer because now it does not have to return a 3D output to the final Dense layer.\n",
        "\n",
        "**6) optimizer=’adam’**: This parameter helps to find the optimum values of each weight in the neural network. ‘adam’ is one of the most useful optimizers, another one is ‘rmsprop’\n",
        "\n",
        "**7) batch_size=10:** This specifies how many rows will be passed to the Network in one go after which the SSE calculation will begin and the neural network will start adjusting its weights based on the errors.\n",
        "When all the rows are passed in the batches of 10 rows each as specified in this parameter, then we call that 1-epoch. Or one full data cycle. This is also known as mini-batch gradient descent. A small value of batch_size will make the LSTM look at the data slowly, like 2 rows at a time or 4 rows at a time which could lead to overfitting, as compared to a large value like 20 or 50 rows at a time, which will make the LSTM look at the data fast which could lead to underfitting. Hence a proper value must be chosen using hyperparameter tuning.\n",
        "\n",
        "**8) Epochs=22**: The same activity of adjusting weights continues for 10 times, as specified by this parameter. In simple terms, the LSTM looks at the full training data 10 times and adjusts its weights.\n",
        "\n",
        "\n"
      ],
      "metadata": {
        "id": "nd4rBAKUw_fi"
      }
    },
    {
      "cell_type": "code",
      "source": [
        "from keras.models import Sequential\n",
        "from keras.layers import Dense\n",
        "from keras.layers import LSTM\n",
        " \n",
        "# Initialising the RNN\n",
        "regressor = Sequential()\n",
        " \n",
        "# Adding the First input hidden layer and the LSTM layer\n",
        "# return_sequences = True, means the output of every time step to be shared with hidden next layer\n",
        "regressor.add(LSTM(units = 10, activation = 'relu', input_shape = (TimeSteps, TotalFeatures), return_sequences=True))\n",
        " \n",
        "# Adding the Second Second hidden layer and the LSTM layer\n",
        "regressor.add(LSTM(units = 5, activation = 'relu', input_shape = (TimeSteps, TotalFeatures), return_sequences=True))\n",
        " \n",
        "# Adding the Second Third hidden layer and the LSTM layer\n",
        "regressor.add(LSTM(units = 5, activation = 'relu', return_sequences=False ))\n",
        " \n",
        " \n",
        "# Adding the output layer\n",
        "regressor.add(Dense(units = 1))\n",
        " \n",
        "# Compiling the RNN\n",
        "regressor.compile(optimizer = 'adam', loss = 'mean_squared_error')\n",
        " \n",
        "##################################################\n",
        " \n",
        "import time\n",
        "# Measuring the time taken by the model to train\n",
        "StartTime=time.time()\n",
        " \n",
        "# Fitting the RNN to the Training set\n",
        "regressor.fit(X_train, y_train, batch_size = 5, epochs = 22)\n",
        " \n",
        "EndTime=time.time()\n",
        "print(\"Total Time Taken: \", round((EndTime-StartTime)/60), 'Minutes')"
      ],
      "metadata": {
        "colab": {
          "base_uri": "https://localhost:8080/"
        },
        "id": "hdRItyqqo-31",
        "outputId": "e0f0f51e-10be-4c81-9e4e-5d257d972a72"
      },
      "execution_count": 10,
      "outputs": [
        {
          "output_type": "stream",
          "name": "stderr",
          "text": [
            "WARNING:tensorflow:Layer lstm will not use cuDNN kernels since it doesn't meet the criteria. It will use a generic GPU kernel as fallback when running on GPU.\n",
            "WARNING:tensorflow:Layer lstm_1 will not use cuDNN kernels since it doesn't meet the criteria. It will use a generic GPU kernel as fallback when running on GPU.\n",
            "WARNING:tensorflow:Layer lstm_2 will not use cuDNN kernels since it doesn't meet the criteria. It will use a generic GPU kernel as fallback when running on GPU.\n"
          ]
        },
        {
          "output_type": "stream",
          "name": "stdout",
          "text": [
            "Epoch 1/22\n",
            "1155/1155 [==============================] - 61s 44ms/step - loss: 0.0043\n",
            "Epoch 2/22\n",
            "1155/1155 [==============================] - 51s 44ms/step - loss: 3.7191e-04\n",
            "Epoch 3/22\n",
            "1155/1155 [==============================] - 52s 45ms/step - loss: 3.8628e-04\n",
            "Epoch 4/22\n",
            "1155/1155 [==============================] - 51s 45ms/step - loss: 3.4709e-04\n",
            "Epoch 5/22\n",
            "1155/1155 [==============================] - 52s 45ms/step - loss: 3.3028e-04\n",
            "Epoch 6/22\n",
            "1155/1155 [==============================] - 51s 45ms/step - loss: 2.8203e-04\n",
            "Epoch 7/22\n",
            "1155/1155 [==============================] - 52s 45ms/step - loss: 2.3806e-04\n",
            "Epoch 8/22\n",
            "1155/1155 [==============================] - 52s 45ms/step - loss: 2.0175e-04\n",
            "Epoch 9/22\n",
            "1155/1155 [==============================] - 52s 45ms/step - loss: 1.9164e-04\n",
            "Epoch 10/22\n",
            "1155/1155 [==============================] - 51s 45ms/step - loss: 1.8456e-04\n",
            "Epoch 11/22\n",
            "1155/1155 [==============================] - 52s 45ms/step - loss: 1.6956e-04\n",
            "Epoch 12/22\n",
            "1155/1155 [==============================] - 51s 44ms/step - loss: 1.7769e-04\n",
            "Epoch 13/22\n",
            "1155/1155 [==============================] - 52s 45ms/step - loss: 1.5592e-04\n",
            "Epoch 14/22\n",
            "1155/1155 [==============================] - 51s 45ms/step - loss: 1.7570e-04\n",
            "Epoch 15/22\n",
            "1155/1155 [==============================] - 52s 45ms/step - loss: 1.3188e-04\n",
            "Epoch 16/22\n",
            "1155/1155 [==============================] - 52s 45ms/step - loss: 1.2621e-04\n",
            "Epoch 17/22\n",
            "1155/1155 [==============================] - 52s 45ms/step - loss: 1.2047e-04\n",
            "Epoch 18/22\n",
            "1155/1155 [==============================] - 52s 45ms/step - loss: 1.1775e-04\n",
            "Epoch 19/22\n",
            "1155/1155 [==============================] - 52s 45ms/step - loss: 1.0670e-04\n",
            "Epoch 20/22\n",
            "1155/1155 [==============================] - 52s 45ms/step - loss: 1.0287e-04\n",
            "Epoch 21/22\n",
            "1155/1155 [==============================] - 52s 45ms/step - loss: 1.0227e-04\n",
            "Epoch 22/22\n",
            "1155/1155 [==============================] - 51s 44ms/step - loss: 1.0279e-04\n",
            "Total Time Taken:  19 Minutes\n"
          ]
        }
      ]
    },
    {
      "cell_type": "code",
      "source": [
        "regressor.save(\"model_10.h5\")"
      ],
      "metadata": {
        "id": "BhdYukp5pZjp"
      },
      "execution_count": 11,
      "outputs": []
    },
    {
      "cell_type": "markdown",
      "source": [
        "**Measuring the accuracy of the model on testing data:**\n",
        "\n",
        "Now using the trained model, we are checking if the predicted prices for the last 5 days are close to the actual prices or not.\n",
        " \n",
        "Since we normalized the data before the model training, the predictions on testing data will also be normalized, hence the inverse transformation will bring the values to the original scale. Then only we must calculate the percentage accuracy."
      ],
      "metadata": {
        "id": "8H9WxKyaAa2m"
      }
    },
    {
      "cell_type": "code",
      "source": [
        "\n",
        "# Making predictions on test data\n",
        "predicted_Price = regressor.predict(X_test)\n",
        "predicted_Price = DataScaler.inverse_transform(predicted_Price)\n",
        " \n",
        "# Getting the original price values for testing data\n",
        "orig=y_test\n",
        "orig=DataScaler.inverse_transform(y_test)\n",
        " \n",
        "# Accuracy of the predictions\n",
        "print('Accuracy:', 100 - (100*(abs(orig-predicted_Price)/orig)).mean())\n",
        " \n",
        "# Visualising the results\n",
        "import matplotlib.pyplot as plt\n",
        " \n",
        "plt.plot(predicted_Price, color = 'blue', label = 'Predicted Volume')\n",
        "plt.plot(orig, color = 'lightblue', label = 'Original Volume')\n",
        " \n",
        "plt.title('Stock Price Predictions')\n",
        "plt.xlabel('Date')\n",
        "plt.xticks(range(TestingRecords), StockData.tail(TestingRecords)['Date'])\n",
        "plt.ylabel('Stock Price')\n",
        " \n",
        "plt.legend()\n",
        "fig=plt.gcf()\n",
        "fig.set_figwidth(20)\n",
        "fig.set_figheight(6)\n",
        "plt.show()"
      ],
      "metadata": {
        "colab": {
          "base_uri": "https://localhost:8080/",
          "height": 439
        },
        "id": "vK_luvUgo-7L",
        "outputId": "21e5901d-7286-4043-e8cf-479cf289f4b2"
      },
      "execution_count": 12,
      "outputs": [
        {
          "output_type": "stream",
          "name": "stdout",
          "text": [
            "1/1 [==============================] - 0s 438ms/step\n",
            "Accuracy: 98.9633394619509\n"
          ]
        },
        {
          "output_type": "display_data",
          "data": {
            "text/plain": [
              "<Figure size 1440x432 with 1 Axes>"
            ],
            "image/png": "[encoded data removed]"
          },
          "metadata": {
            "needs_background": "light"
          }
        }
      ]
    },
    {
      "cell_type": "markdown",
      "source": [
        "**Visualizing the predictions for full data:**\n",
        "\n",
        "Plotting the training and testing data both to see how good the LSTM model has fitted."
      ],
      "metadata": {
        "id": "exNoF8aIBQkX"
      }
    },
    {
      "cell_type": "code",
      "source": [
        "# Generating predictions on full data\n",
        "TrainPredictions=DataScaler.inverse_transform(regressor.predict(X_train))\n",
        "TestPredictions=DataScaler.inverse_transform(regressor.predict(X_test))\n",
        " \n",
        "FullDataPredictions=np.append(TrainPredictions, TestPredictions)\n",
        "FullDataOrig=FullData[TimeSteps:]\n",
        " \n",
        "# plotting the full data\n",
        "plt.plot(FullDataPredictions, color = 'red', label = 'Predicted Price')\n",
        "plt.plot(FullDataOrig , color = 'lightblue', label = 'Original Price')\n",
        " \n",
        " \n",
        "plt.title('Stock Price Predictions')\n",
        "plt.xlabel('Date')\n",
        "plt.ylabel('Stock Price')\n",
        "plt.legend()\n",
        "fig=plt.gcf()\n",
        "fig.set_figwidth(20)\n",
        "fig.set_figheight(8)\n",
        "plt.show()"
      ],
      "metadata": {
        "colab": {
          "base_uri": "https://localhost:8080/",
          "height": 548
        },
        "id": "Z3YKLvxno--S",
        "outputId": "ef752584-5515-4ee9-d97d-335a6ac93887"
      },
      "execution_count": 13,
      "outputs": [
        {
          "output_type": "stream",
          "name": "stdout",
          "text": [
            "181/181 [==============================] - 1s 6ms/step\n",
            "1/1 [==============================] - 0s 29ms/step\n"
          ]
        },
        {
          "output_type": "display_data",
          "data": {
            "text/plain": [
              "<Figure size 1440x576 with 1 Axes>"
            ],
            "image/png": "[encoded data removed]"
          },
          "metadata": {
            "needs_background": "light"
          }
        }
      ]
    },
    {
      "cell_type": "markdown",
      "source": [
        "**How to predict the stock price for tomorrow:**\n",
        "\n",
        "If we want to predict the price for tomorrow, all we need to do is to pass the last 10 day’s prices to the model in 3D format as it was used in the training.\n",
        "\n",
        "The below snippet shows you how to take the last 10 prices manually and do a single prediction for the next price."
      ],
      "metadata": {
        "id": "K-OWQIuiButo"
      }
    },
    {
      "cell_type": "code",
      "source": [
        "# Last 10 days prices\n",
        "Last10Days=np.array([19.629999,19.709999,20.350000,20.510000,20.190001,19.750000,19.410000,19.389999,19.580000,18.490000])\n",
        " \n",
        "# Normalizing the data just like we did for training the model\n",
        "Last10Days=DataScaler.transform(Last10Days.reshape(-1,1))\n",
        " \n",
        "# Changing the shape of the data to 3D\n",
        "# Choosing TimeSteps as 10 because we have used the same for training\n",
        "NumSamples=1\n",
        "TimeSteps=10\n",
        "NumFeatures=1\n",
        "Last10Days=Last10Days.reshape(NumSamples,TimeSteps,NumFeatures)\n",
        " \n",
        "#############################\n",
        " \n",
        "# Making predictions on data\n",
        "predicted_Price = regressor.predict(Last10Days)\n",
        "predicted_Price = DataScaler.inverse_transform(predicted_Price)\n",
        "predicted_Price"
      ],
      "metadata": {
        "colab": {
          "base_uri": "https://localhost:8080/"
        },
        "id": "BbQdmAQfo_GT",
        "outputId": "cf37e62e-a218-4e2e-ae6f-81c8442fc848"
      },
      "execution_count": 14,
      "outputs": [
        {
          "output_type": "stream",
          "name": "stdout",
          "text": [
            "1/1 [==============================] - 0s 30ms/step\n"
          ]
        },
        {
          "output_type": "execute_result",
          "data": {
            "text/plain": [
              "array([[18.568138]], dtype=float32)"
            ]
          },
          "metadata": {},
          "execution_count": 14
        }
      ]
    },
    {
      "cell_type": "markdown",
      "source": [
        "**If I want to predict prices for the next 5 days:**"
      ],
      "metadata": {
        "id": "nCQPIfgYGvuf"
      }
    },
    {
      "cell_type": "markdown",
      "source": [
        "**Data Preparation for Multi Step LSTM:**"
      ],
      "metadata": {
        "id": "yy4zgbTMG27v"
      }
    },
    {
      "cell_type": "code",
      "source": [
        "# Considering the Full Data again which we extracted above\n",
        "# Printing the last 10 values\n",
        "print('Original Prices')\n",
        "print(FullData[-10:])\n",
        " \n",
        "print('###################')\n",
        " \n",
        "# Printing last 10 values of the scaled data which we have created above for the last model\n",
        "# Here I am changing the shape of the data to one dimensional array because\n",
        "# for Multi step data preparation we need to X input in this fashion\n",
        "X=X.reshape(X.shape[0],)\n",
        "print('Scaled Prices')\n",
        "print(X[-10:])"
      ],
      "metadata": {
        "colab": {
          "base_uri": "https://localhost:8080/"
        },
        "id": "YEgY3A3_o_PO",
        "outputId": "366eb8e4-8b26-40e7-d986-8d80bf1b5ed0"
      },
      "execution_count": 15,
      "outputs": [
        {
          "output_type": "stream",
          "name": "stdout",
          "text": [
            "Original Prices\n",
            "[[17.73    ]\n",
            " [17.879999]\n",
            " [18.059999]\n",
            " [18.219999]\n",
            " [17.93    ]\n",
            " [17.92    ]\n",
            " [18.030001]\n",
            " [17.959999]\n",
            " [18.24    ]\n",
            " [18.01    ]]\n",
            "###################\n",
            "Scaled Prices\n",
            "[0.66346318 0.66942306 0.67657497 0.68293221 0.67140974 0.67101241\n",
            " 0.67538306 0.67260169 0.68372691 0.67458837]\n"
          ]
        }
      ]
    },
    {
      "cell_type": "code",
      "source": [
        "# Multi step data preparation\n",
        "# split into samples\n",
        "X_samples = list()\n",
        "y_samples = list()\n",
        " \n",
        "NumerOfRows = len(X)\n",
        "TimeSteps=10  # next few day's Price Prediction is based on last how many past day's prices\n",
        "FutureTimeSteps=5 # How many days in future you want to predict the prices\n",
        " \n",
        "# Iterate thru the values to create combinations\n",
        "for i in range(TimeSteps , NumerOfRows-FutureTimeSteps , 1):\n",
        "    x_sample = X[i-TimeSteps:i]\n",
        "    y_sample = X[i:i+FutureTimeSteps]\n",
        "    X_samples.append(x_sample)\n",
        "    y_samples.append(y_sample)\n",
        " \n",
        "################################################\n",
        " \n",
        "# Reshape the Input as a 3D (samples, Time Steps, Features)\n",
        "X_data=np.array(X_samples)\n",
        "X_data=X_data.reshape(X_data.shape[0],X_data.shape[1], 1)\n",
        "print('### Input Data Shape ###') \n",
        "print(X_data.shape)\n",
        " \n",
        "# We do not reshape y as a 3D data  as it is supposed to be a single column only\n",
        "y_data=np.array(y_samples)\n",
        "print('### Output Data Shape ###') \n",
        "print(y_data.shape)"
      ],
      "metadata": {
        "colab": {
          "base_uri": "https://localhost:8080/"
        },
        "id": "mn3PXko-o_TV",
        "outputId": "b0b5c5eb-72da-4255-82cb-7c749214642b"
      },
      "execution_count": 16,
      "outputs": [
        {
          "output_type": "stream",
          "name": "stdout",
          "text": [
            "### Input Data Shape ###\n",
            "(5772, 10, 1)\n",
            "### Output Data Shape ###\n",
            "(5772, 5)\n"
          ]
        }
      ]
    },
    {
      "cell_type": "markdown",
      "source": [
        "**Splitting the data into Training and Testing:**"
      ],
      "metadata": {
        "id": "KfljX6x2HWZe"
      }
    },
    {
      "cell_type": "code",
      "source": [
        "\n",
        "# Choosing the number of testing data records\n",
        "TestingRecords=5\n",
        " \n",
        "# Splitting the data into train and test\n",
        "X_train=X_data[:-TestingRecords]\n",
        "X_test=X_data[-TestingRecords:]\n",
        "y_train=y_data[:-TestingRecords]\n",
        "y_test=y_data[-TestingRecords:]\n",
        " \n",
        "#############################################\n",
        "# Printing the shape of training and testing\n",
        "print('\\n#### Training Data shape ####')\n",
        "print(X_train.shape)\n",
        "print(y_train.shape)\n",
        " \n",
        "print('\\n#### Testing Data shape ####')\n",
        "print(X_test.shape)\n",
        "print(y_test.shape)"
      ],
      "metadata": {
        "colab": {
          "base_uri": "https://localhost:8080/"
        },
        "id": "v5lMilusHHsF",
        "outputId": "c0b30bff-f421-4905-db7f-e556a039f0f0"
      },
      "execution_count": 17,
      "outputs": [
        {
          "output_type": "stream",
          "name": "stdout",
          "text": [
            "\n",
            "#### Training Data shape ####\n",
            "(5767, 10, 1)\n",
            "(5767, 5)\n",
            "\n",
            "#### Testing Data shape ####\n",
            "(5, 10, 1)\n",
            "(5, 5)\n"
          ]
        }
      ]
    },
    {
      "cell_type": "markdown",
      "source": [
        "**Visualizing the input->output sent to LSTM Multi-step model**\n",
        "\n",
        "The input is a 3D array of the last 10 days’ prices and the output is an array of the next 5 days’ prices."
      ],
      "metadata": {
        "id": "v0SMa5GVHx5N"
      }
    },
    {
      "cell_type": "code",
      "source": [
        "# Visualizing the input and output being sent to the LSTM model\n",
        "# Based on last 10 days prices we are learning the next 5 days of prices\n",
        "for inp, out in zip(X_train[0:2], y_train[0:2]):\n",
        "    print(inp)\n",
        "    print('====>')\n",
        "    print(out)\n",
        "    print('#'*20)"
      ],
      "metadata": {
        "colab": {
          "base_uri": "https://localhost:8080/"
        },
        "id": "8pLwbJK4HarQ",
        "outputId": "d65f0854-9aef-44f6-feff-c3b76c22af21"
      },
      "execution_count": 18,
      "outputs": [
        {
          "output_type": "stream",
          "name": "stdout",
          "text": [
            "[[0.18816272]\n",
            " [0.18994759]\n",
            " [0.18808512]\n",
            " [0.16387295]\n",
            " [0.17815192]\n",
            " [0.18125605]\n",
            " [0.16821872]\n",
            " [0.16449377]\n",
            " [0.15642305]\n",
            " [0.14408415]]\n",
            "====>\n",
            "[0.15037    0.1475763  0.1426097  0.14742111 0.15642305]\n",
            "####################\n",
            "[[0.18994759]\n",
            " [0.18808512]\n",
            " [0.16387295]\n",
            " [0.17815192]\n",
            " [0.18125605]\n",
            " [0.16821872]\n",
            " [0.16449377]\n",
            " [0.15642305]\n",
            " [0.14408415]\n",
            " [0.15037   ]]\n",
            "====>\n",
            "[0.1475763  0.1426097  0.14742111 0.15642305 0.15331892]\n",
            "####################\n"
          ]
        }
      ]
    },
    {
      "cell_type": "markdown",
      "source": [
        "**Creating the Deep Learning Multi-Step LSTM model**\n",
        "\n",
        "Here we are using same configurations as used in the last model. The change is done at the Dense layer. Now the dense layer outputs the number of values equal to the FutureTimeSteps, which is 5 in this case since we want to predict the next 5 days.\n",
        "\n"
      ],
      "metadata": {
        "id": "pxATFlMYIJtK"
      }
    },
    {
      "cell_type": "code",
      "source": [
        "# Defining Input shapes for LSTM\n",
        "TimeSteps=X_train.shape[1]\n",
        "TotalFeatures=X_train.shape[2]\n",
        "print(\"Number of TimeSteps:\", TimeSteps)\n",
        "print(\"Number of Features:\", TotalFeatures)"
      ],
      "metadata": {
        "colab": {
          "base_uri": "https://localhost:8080/"
        },
        "id": "9aLG5IgvIFrR",
        "outputId": "4c146096-2976-4ea7-aa54-60b3755bee73"
      },
      "execution_count": 19,
      "outputs": [
        {
          "output_type": "stream",
          "name": "stdout",
          "text": [
            "Number of TimeSteps: 10\n",
            "Number of Features: 1\n"
          ]
        }
      ]
    },
    {
      "cell_type": "code",
      "source": [
        "\n",
        "# Importing the Keras libraries and packages\n",
        "from keras.models import Sequential\n",
        "from keras.layers import Dense\n",
        "from keras.layers import LSTM\n",
        " \n",
        "# Initialising the RNN\n",
        "regressor = Sequential()\n",
        " \n",
        "# Adding the First input hidden layer and the LSTM layer\n",
        "# return_sequences = True, means the output of every time step to be shared with hidden next layer\n",
        "regressor.add(LSTM(units = 10, activation = 'relu', input_shape = (TimeSteps, TotalFeatures), return_sequences=True))\n",
        " \n",
        " \n",
        "# Adding the Second hidden layer and the LSTM layer\n",
        "regressor.add(LSTM(units = 5, activation = 'relu', input_shape = (TimeSteps, TotalFeatures), return_sequences=True))\n",
        " \n",
        "# Adding the Third hidden layer and the LSTM layer\n",
        "regressor.add(LSTM(units = 5, activation = 'relu', return_sequences=False ))\n",
        " \n",
        " \n",
        "# Adding the output layer\n",
        "# Notice the number of neurons in the dense layer is now the number of future time steps \n",
        "# Based on the number of future days we want to predict\n",
        "regressor.add(Dense(units = FutureTimeSteps))\n",
        " \n",
        "# Compiling the RNN\n",
        "regressor.compile(optimizer = 'adam', loss = 'mean_squared_error')\n",
        " \n",
        "###################################################################\n",
        " \n",
        "import time\n",
        "# Measuring the time taken by the model to train\n",
        "StartTime=time.time()\n",
        " \n",
        "# Fitting the RNN to the Training set\n",
        "regressor.fit(X_train, y_train, batch_size = 5, epochs = 50)\n",
        "regressor.save(\"model_5.h5\")\n",
        " \n",
        "EndTime=time.time()\n",
        "print(\"############### Total Time Taken: \", round((EndTime-StartTime)/60), 'Minutes #############')"
      ],
      "metadata": {
        "colab": {
          "base_uri": "https://localhost:8080/"
        },
        "id": "FetZQHnsIjP2",
        "outputId": "40452f0c-ffc3-4341-dc7d-71e48fa87213"
      },
      "execution_count": 24,
      "outputs": [
        {
          "output_type": "stream",
          "name": "stderr",
          "text": [
            "WARNING:tensorflow:Layer lstm_12 will not use cuDNN kernels since it doesn't meet the criteria. It will use a generic GPU kernel as fallback when running on GPU.\n",
            "WARNING:tensorflow:Layer lstm_13 will not use cuDNN kernels since it doesn't meet the criteria. It will use a generic GPU kernel as fallback when running on GPU.\n",
            "WARNING:tensorflow:Layer lstm_14 will not use cuDNN kernels since it doesn't meet the criteria. It will use a generic GPU kernel as fallback when running on GPU.\n"
          ]
        },
        {
          "output_type": "stream",
          "name": "stdout",
          "text": [
            "Epoch 1/50\n",
            "1154/1154 [==============================] - 56s 45ms/step - loss: 0.0163\n",
            "Epoch 2/50\n",
            "1154/1154 [==============================] - 52s 45ms/step - loss: 6.2205e-04\n",
            "Epoch 3/50\n",
            "1154/1154 [==============================] - 51s 44ms/step - loss: 5.2674e-04\n",
            "Epoch 4/50\n",
            "1154/1154 [==============================] - 52s 45ms/step - loss: 4.9721e-04\n",
            "Epoch 5/50\n",
            "1154/1154 [==============================] - 52s 45ms/step - loss: 4.8410e-04\n",
            "Epoch 6/50\n",
            "1154/1154 [==============================] - 52s 45ms/step - loss: 4.7292e-04\n",
            "Epoch 7/50\n",
            "1154/1154 [==============================] - 52s 45ms/step - loss: 4.5974e-04\n",
            "Epoch 8/50\n",
            "1154/1154 [==============================] - 52s 45ms/step - loss: 4.5155e-04\n",
            "Epoch 9/50\n",
            "1154/1154 [==============================] - 51s 45ms/step - loss: 4.4784e-04\n",
            "Epoch 10/50\n",
            "1154/1154 [==============================] - 52s 45ms/step - loss: 4.3924e-04\n",
            "Epoch 11/50\n",
            "1154/1154 [==============================] - 52s 45ms/step - loss: 4.1541e-04\n",
            "Epoch 12/50\n",
            "1154/1154 [==============================] - 52s 45ms/step - loss: 4.1162e-04\n",
            "Epoch 13/50\n",
            "1154/1154 [==============================] - 52s 45ms/step - loss: 3.9055e-04\n",
            "Epoch 14/50\n",
            "1154/1154 [==============================] - 52s 45ms/step - loss: 3.7767e-04\n",
            "Epoch 15/50\n",
            "1154/1154 [==============================] - 52s 45ms/step - loss: 3.8839e-04\n",
            "Epoch 16/50\n",
            "1154/1154 [==============================] - 52s 45ms/step - loss: 3.7928e-04\n",
            "Epoch 17/50\n",
            "1154/1154 [==============================] - 52s 45ms/step - loss: 3.4949e-04\n",
            "Epoch 18/50\n",
            "1154/1154 [==============================] - 52s 45ms/step - loss: 3.3584e-04\n",
            "Epoch 19/50\n",
            "1154/1154 [==============================] - 52s 45ms/step - loss: 3.4414e-04\n",
            "Epoch 20/50\n",
            "1154/1154 [==============================] - 52s 45ms/step - loss: 3.0609e-04\n",
            "Epoch 21/50\n",
            "1154/1154 [==============================] - 51s 45ms/step - loss: 3.1640e-04\n",
            "Epoch 22/50\n",
            "1154/1154 [==============================] - 52s 45ms/step - loss: 2.9940e-04\n",
            "Epoch 23/50\n",
            "1154/1154 [==============================] - 51s 44ms/step - loss: 2.8583e-04\n",
            "Epoch 24/50\n",
            "1154/1154 [==============================] - 52s 45ms/step - loss: 2.7008e-04\n",
            "Epoch 25/50\n",
            "1154/1154 [==============================] - 52s 45ms/step - loss: 2.7219e-04\n",
            "Epoch 26/50\n",
            "1154/1154 [==============================] - 52s 45ms/step - loss: 2.7300e-04\n",
            "Epoch 27/50\n",
            "1154/1154 [==============================] - 52s 45ms/step - loss: 2.4953e-04\n",
            "Epoch 28/50\n",
            "1154/1154 [==============================] - 52s 45ms/step - loss: 2.5254e-04\n",
            "Epoch 29/50\n",
            "1154/1154 [==============================] - 52s 45ms/step - loss: 2.4478e-04\n",
            "Epoch 30/50\n",
            "1154/1154 [==============================] - 52s 45ms/step - loss: 2.3347e-04\n",
            "Epoch 31/50\n",
            "1154/1154 [==============================] - 52s 45ms/step - loss: 2.2810e-04\n",
            "Epoch 32/50\n",
            "1154/1154 [==============================] - 52s 45ms/step - loss: 2.3093e-04\n",
            "Epoch 33/50\n",
            "1154/1154 [==============================] - 51s 45ms/step - loss: 2.3202e-04\n",
            "Epoch 34/50\n",
            "1154/1154 [==============================] - 52s 45ms/step - loss: 2.2265e-04\n",
            "Epoch 35/50\n",
            "1154/1154 [==============================] - 52s 45ms/step - loss: 2.1584e-04\n",
            "Epoch 36/50\n",
            "1154/1154 [==============================] - 52s 45ms/step - loss: 2.2122e-04\n",
            "Epoch 37/50\n",
            "1154/1154 [==============================] - 51s 45ms/step - loss: 2.1760e-04\n",
            "Epoch 38/50\n",
            "1154/1154 [==============================] - 52s 45ms/step - loss: 2.1784e-04\n",
            "Epoch 39/50\n",
            "1154/1154 [==============================] - 52s 45ms/step - loss: 2.0595e-04\n",
            "Epoch 40/50\n",
            "1154/1154 [==============================] - 52s 45ms/step - loss: 2.1145e-04\n",
            "Epoch 41/50\n",
            "1154/1154 [==============================] - 52s 45ms/step - loss: 2.1116e-04\n",
            "Epoch 42/50\n",
            "1154/1154 [==============================] - 52s 45ms/step - loss: 2.1129e-04\n",
            "Epoch 43/50\n",
            "1154/1154 [==============================] - 51s 45ms/step - loss: 2.0910e-04\n",
            "Epoch 44/50\n",
            "1154/1154 [==============================] - 52s 45ms/step - loss: 2.0538e-04\n",
            "Epoch 45/50\n",
            "1154/1154 [==============================] - 52s 45ms/step - loss: 2.0429e-04\n",
            "Epoch 46/50\n",
            "1154/1154 [==============================] - 52s 45ms/step - loss: 2.0315e-04\n",
            "Epoch 47/50\n",
            "1154/1154 [==============================] - 52s 45ms/step - loss: 2.0617e-04\n",
            "Epoch 48/50\n",
            "1154/1154 [==============================] - 52s 45ms/step - loss: 2.0252e-04\n",
            "Epoch 49/50\n",
            "1154/1154 [==============================] - 52s 45ms/step - loss: 2.0288e-04\n",
            "Epoch 50/50\n",
            "1154/1154 [==============================] - 52s 45ms/step - loss: 2.0112e-04\n",
            "############### Total Time Taken:  43 Minutes #############\n"
          ]
        }
      ]
    },
    {
      "cell_type": "code",
      "source": [
        "regressor.save(\"model_5.h5\")"
      ],
      "metadata": {
        "id": "lsLQDBVEQJtj"
      },
      "execution_count": 25,
      "outputs": []
    },
    {
      "cell_type": "markdown",
      "source": [
        "**Measuring the Accuracy of the model on testing data:**\n",
        "\n",
        "Since this is Multi step model trained to predict next 5 days. Each prediction will generate 5 days’ prices which we can match with the original prices."
      ],
      "metadata": {
        "id": "jvjvP08jrONa"
      }
    },
    {
      "cell_type": "code",
      "source": [
        "# Making predictions on test data\n",
        "predicted_Price = regressor.predict(X_test)\n",
        "predicted_Price = DataScaler.inverse_transform(predicted_Price)\n",
        "print('#### Predicted Prices ####')\n",
        "print(predicted_Price)\n",
        " \n",
        "# Getting the original price values for testing data\n",
        "orig=y_test\n",
        "orig=DataScaler.inverse_transform(y_test)\n",
        "print('\\n#### Original Prices ####')\n",
        "print(orig)"
      ],
      "metadata": {
        "colab": {
          "base_uri": "https://localhost:8080/"
        },
        "id": "1xyVeqQQajm6",
        "outputId": "4b3ac4a5-4ab0-4e10-e308-09bda072c5a1"
      },
      "execution_count": 26,
      "outputs": [
        {
          "output_type": "stream",
          "name": "stdout",
          "text": [
            "1/1 [==============================] - 0s 418ms/step\n",
            "#### Predicted Prices ####\n",
            "[[17.822004 17.711658 17.541111 17.54656  17.46069 ]\n",
            " [17.381418 17.24875  17.119751 17.09472  17.032114]\n",
            " [17.569098 17.440865 17.438032 17.268232 17.282774]\n",
            " [17.77625  17.668072 17.648949 17.483889 17.490112]\n",
            " [17.934616 17.827856 17.783113 17.64443  17.635416]]\n",
            "\n",
            "#### Original Prices ####\n",
            "[[17.73     17.879999 18.059999 18.219999 17.93    ]\n",
            " [17.879999 18.059999 18.219999 17.93     17.92    ]\n",
            " [18.059999 18.219999 17.93     17.92     18.030001]\n",
            " [18.219999 17.93     17.92     18.030001 17.959999]\n",
            " [17.93     17.92     18.030001 17.959999 18.24    ]]\n"
          ]
        }
      ]
    },
    {
      "cell_type": "markdown",
      "source": [
        "Each row represents the original prices and the predicted prices.\n",
        "\n",
        "We will compare one row at a time. Using a simple for-loop, each row of original values are compared with the predicted values"
      ],
      "metadata": {
        "id": "nEa5htiSrkDx"
      }
    },
    {
      "cell_type": "code",
      "source": [
        "\n",
        "import matplotlib.pyplot as plt\n",
        " \n",
        "for i in range(len(orig)):\n",
        "    Prediction=predicted_Price[i]\n",
        "    Original=orig[i]\n",
        "    \n",
        "    # Visualising the results\n",
        "    plt.plot(Prediction, color = 'blue', label = 'Predicted Volume')\n",
        "    plt.plot(Original, color = 'lightblue', label = 'Original Volume')\n",
        " \n",
        "    plt.title('### Accuracy of the predictions:'+ str(100 - (100*(abs(Original-Prediction)/Original)).mean().round(2))+'% ###')\n",
        "    plt.xlabel('Date')\n",
        "    \n",
        "    startDateIndex=(FutureTimeSteps*TestingRecords)-FutureTimeSteps*(i+1)\n",
        "    endDateIndex=(FutureTimeSteps*TestingRecords)-FutureTimeSteps*(i+1) + FutureTimeSteps\n",
        "    TotalRows=StockData.shape[0]\n",
        " \n",
        "    plt.xticks(range(FutureTimeSteps), StockData.iloc[TotalRows-endDateIndex : TotalRows-(startDateIndex) , :]['Date'])\n",
        "    plt.ylabel('Stock Price')\n",
        " \n",
        "    plt.legend()\n",
        "    fig=plt.gcf()\n",
        "    fig.set_figwidth(20)\n",
        "    fig.set_figheight(3)\n",
        "    plt.show()"
      ],
      "metadata": {
        "colab": {
          "base_uri": "https://localhost:8080/",
          "height": 1000
        },
        "id": "oAnqKaH9rncb",
        "outputId": "ce4228d1-c4e3-451b-f1ea-f25852a44986"
      },
      "execution_count": 27,
      "outputs": [
        {
          "output_type": "display_data",
          "data": {
            "text/plain": [
              "<Figure size 1440x216 with 1 Axes>"
            ],
            "image/png": "[encoded data removed]"
          },
          "metadata": {
            "needs_background": "light"
          }
        },
        {
          "output_type": "display_data",
          "data": {
            "text/plain": [
              "<Figure size 1440x216 with 1 Axes>"
            ],
            "image/png": "[encoded data removed]"
          },
          "metadata": {
            "needs_background": "light"
          }
        },
        {
          "output_type": "display_data",
          "data": {
            "text/plain": [
              "<Figure size 1440x216 with 1 Axes>"
            ],
            "image/png": "[encoded data removed]"
          },
          "metadata": {
            "needs_background": "light"
          }
        },
        {
          "output_type": "display_data",
          "data": {
            "text/plain": [
              "<Figure size 1440x216 with 1 Axes>"
            ],
            "image/png": "[encoded data removed]"
          },
          "metadata": {
            "needs_background": "light"
          }
        },
        {
          "output_type": "display_data",
          "data": {
            "text/plain": [
              "<Figure size 1440x216 with 1 Axes>"
            ],
            "image/png": "[encoded data removed]"
          },
          "metadata": {
            "needs_background": "light"
          }
        }
      ]
    },
    {
      "cell_type": "markdown",
      "source": [
        "**Making predictions for the next 5 days:**\n",
        "\n",
        "If you want to predict the price for the next 5 days, all you have to do is to pass the last 10 day’s prices to the model in 3D format as it was used in the training.\n",
        "\n",
        "The below snippet shows you how to pass the last 10 values manually to get the next 5 days’ price predictions.\n",
        "\n",
        "\n",
        "\n"
      ],
      "metadata": {
        "id": "U-D_upfvs37y"
      }
    },
    {
      "cell_type": "code",
      "source": [
        "# Making predictions on test data\n",
        "Last10DaysPrices=np.array([18.49,18.41,18.73,18.71,18.17,17.73,17.87,18.05,18.21,17.93])\n",
        " \n",
        "# Reshaping the data to (-1,1 )because its a single entry\n",
        "Last10DaysPrices=Last10DaysPrices.reshape(-1, 1)\n",
        " \n",
        "# Scaling the data on the same level on which model was trained\n",
        "X_test=DataScaler.transform(Last10DaysPrices)\n",
        " \n",
        "NumberofSamples=1\n",
        "TimeSteps=X_test.shape[0]\n",
        "NumberofFeatures=X_test.shape[1]\n",
        "# Reshaping the data as 3D input\n",
        "X_test=X_test.reshape(NumberofSamples,TimeSteps,NumberofFeatures)\n",
        " \n",
        "# Generating the predictions for next 5 days\n",
        "Next5DaysPrice = regressor.predict(X_test)\n",
        " \n",
        "# Generating the prices in original scale\n",
        "Next5DaysPrice = DataScaler.inverse_transform(Next5DaysPrice)\n",
        "Next5DaysPrice"
      ],
      "metadata": {
        "colab": {
          "base_uri": "https://localhost:8080/"
        },
        "id": "LRXdNEr9rs95",
        "outputId": "aff1a258-e492-470d-b987-9c82853aa0b8"
      },
      "execution_count": 28,
      "outputs": [
        {
          "output_type": "stream",
          "name": "stdout",
          "text": [
            "1/1 [==============================] - 0s 30ms/step\n"
          ]
        },
        {
          "output_type": "execute_result",
          "data": {
            "text/plain": [
              "array([[17.611809, 17.495089, 17.37598 , 17.331787, 17.267681]],\n",
              "      dtype=float32)"
            ]
          },
          "metadata": {},
          "execution_count": 28
        }
      ]
    },
    {
      "cell_type": "code",
      "source": [],
      "metadata": {
        "id": "BfRTvfvuUvzm"
      },
      "execution_count": null,
      "outputs": []
    },
    {
      "cell_type": "code",
      "source": [],
      "metadata": {
        "id": "VA0-g0VoUv5Q"
      },
      "execution_count": null,
      "outputs": []
    }
  ]
}