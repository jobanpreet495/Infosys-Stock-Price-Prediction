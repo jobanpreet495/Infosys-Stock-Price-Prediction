{
  "cells": [
    {
      "cell_type": "markdown",
      "metadata": {
        "id": "pk2s7JDkRLjh"
      },
      "source": [
        "**Importing Libraries**"
      ]
    },
    {
      "cell_type": "code",
      "execution_count": null,
      "metadata": {
        "id": "c0IciQC0uLVZ"
      },
      "outputs": [],
      "source": [
        "import numpy as np\n",
        "import pandas as pd\n",
        "import matplotlib.pyplot as plt\n",
        "import seaborn as sns\n",
        "from sklearn.model_selection import train_test_split\n",
        "from sklearn.preprocessing import StandardScaler\n",
        "from sklearn.linear_model import LinearRegression\n",
        "from sklearn.linear_model import LogisticRegression\n",
        "from sklearn.svm import SVR\n",
        "from sklearn.tree import DecisionTreeRegressor\n",
        "from sklearn.ensemble import RandomForestRegressor\n",
        "from sklearn.metrics import mean_squared_error\n",
        "from sklearn.metrics import mean_absolute_error\n",
        "from sklearn.metrics import r2_score\n",
        "from sklearn import metrics\n",
        "import datetime as dt"
      ]
    },
    {
      "cell_type": "markdown",
      "metadata": {
        "id": "vZHZMvcbR_eG"
      },
      "source": [
        "**Importing Dataset :** The dataset we will use here to perform the analysis and build a predictive model is Infosys Stock Price data. We will use OHLC(‘Open’, ‘High’, ‘Low’, ‘Close’) data from 3rd January 2000 to 30th December 2022 which is for 22 years for the Infosys stocks."
      ]
    },
    {
      "cell_type": "code",
      "execution_count": null,
      "metadata": {
        "colab": {
          "base_uri": "https://localhost:8080/",
          "height": 363
        },
        "id": "U_djPLkWuYS8",
        "outputId": "ae44ec42-cc34-4f0e-bf2b-f7295741cc84"
      },
      "outputs": [
        {
          "output_type": "execute_result",
          "data": {
            "text/plain": [
              "         Date      Open      High       Low     Close  Adj Close   Volume\n",
              "0  2000-01-03  5.890625  5.906250  5.462891  5.767578   3.913799  5331200\n",
              "1  2000-01-04  5.641113  6.281250  5.570313  5.812500   3.944282  5056000\n",
              "2  2000-01-05  5.476563  5.855469  5.328125  5.765625   3.912475  6054400\n",
              "3  2000-01-06  5.598633  5.703125  5.156250  5.156250   3.498962  4704000\n",
              "4  2000-01-07  4.945313  5.515625  4.703125  5.515625   3.742828  7884800\n",
              "5  2000-01-10  5.812500  5.847656  5.546875  5.593750   3.795842  3532800\n",
              "6  2000-01-11  5.441406  5.442383  5.149414  5.265625   3.573181  8512000\n",
              "7  2000-01-12  5.375000  5.546875  4.906250  5.171875   3.509563  3968000\n",
              "8  2000-01-13  5.343750  5.343750  4.875000  4.968750   3.371726  2560000\n",
              "9  2000-01-14  5.100586  5.269531  4.644531  4.658203   3.160994  7091200"
            ],
            "text/html": [
              "\n",
              "  <div id=\"df-2fd70360-741b-4416-9605-2cd9569d5ebc\">\n",
              "    <div class=\"colab-df-container\">\n",
              "      <div>\n",
              "<style scoped>\n",
              "    .dataframe tbody tr th:only-of-type {\n",
              "        vertical-align: middle;\n",
              "    }\n",
              "\n",
              "    .dataframe tbody tr th {\n",
              "        vertical-align: top;\n",
              "    }\n",
              "\n",
              "    .dataframe thead th {\n",
              "        text-align: right;\n",
              "    }\n",
              "</style>\n",
              "<table border=\"1\" class=\"dataframe\">\n",
              "  <thead>\n",
              "    <tr style=\"text-align: right;\">\n",
              "      <th></th>\n",
              "      <th>Date</th>\n",
              "      <th>Open</th>\n",
              "      <th>High</th>\n",
              "      <th>Low</th>\n",
              "      <th>Close</th>\n",
              "      <th>Adj Close</th>\n",
              "      <th>Volume</th>\n",
              "    </tr>\n",
              "  </thead>\n",
              "  <tbody>\n",
              "    <tr>\n",
              "      <th>0</th>\n",
              "      <td>2000-01-03</td>\n",
              "      <td>5.890625</td>\n",
              "      <td>5.906250</td>\n",
              "      <td>5.462891</td>\n",
              "      <td>5.767578</td>\n",
              "      <td>3.913799</td>\n",
              "      <td>5331200</td>\n",
              "    </tr>\n",
              "    <tr>\n",
              "      <th>1</th>\n",
              "      <td>2000-01-04</td>\n",
              "      <td>5.641113</td>\n",
              "      <td>6.281250</td>\n",
              "      <td>5.570313</td>\n",
              "      <td>5.812500</td>\n",
              "      <td>3.944282</td>\n",
              "      <td>5056000</td>\n",
              "    </tr>\n",
              "    <tr>\n",
              "      <th>2</th>\n",
              "      <td>2000-01-05</td>\n",
              "      <td>5.476563</td>\n",
              "      <td>5.855469</td>\n",
              "      <td>5.328125</td>\n",
              "      <td>5.765625</td>\n",
              "      <td>3.912475</td>\n",
              "      <td>6054400</td>\n",
              "    </tr>\n",
              "    <tr>\n",
              "      <th>3</th>\n",
              "      <td>2000-01-06</td>\n",
              "      <td>5.598633</td>\n",
              "      <td>5.703125</td>\n",
              "      <td>5.156250</td>\n",
              "      <td>5.156250</td>\n",
              "      <td>3.498962</td>\n",
              "      <td>4704000</td>\n",
              "    </tr>\n",
              "    <tr>\n",
              "      <th>4</th>\n",
              "      <td>2000-01-07</td>\n",
              "      <td>4.945313</td>\n",
              "      <td>5.515625</td>\n",
              "      <td>4.703125</td>\n",
              "      <td>5.515625</td>\n",
              "      <td>3.742828</td>\n",
              "      <td>7884800</td>\n",
              "    </tr>\n",
              "    <tr>\n",
              "      <th>5</th>\n",
              "      <td>2000-01-10</td>\n",
              "      <td>5.812500</td>\n",
              "      <td>5.847656</td>\n",
              "      <td>5.546875</td>\n",
              "      <td>5.593750</td>\n",
              "      <td>3.795842</td>\n",
              "      <td>3532800</td>\n",
              "    </tr>\n",
              "    <tr>\n",
              "      <th>6</th>\n",
              "      <td>2000-01-11</td>\n",
              "      <td>5.441406</td>\n",
              "      <td>5.442383</td>\n",
              "      <td>5.149414</td>\n",
              "      <td>5.265625</td>\n",
              "      <td>3.573181</td>\n",
              "      <td>8512000</td>\n",
              "    </tr>\n",
              "    <tr>\n",
              "      <th>7</th>\n",
              "      <td>2000-01-12</td>\n",
              "      <td>5.375000</td>\n",
              "      <td>5.546875</td>\n",
              "      <td>4.906250</td>\n",
              "      <td>5.171875</td>\n",
              "      <td>3.509563</td>\n",
              "      <td>3968000</td>\n",
              "    </tr>\n",
              "    <tr>\n",
              "      <th>8</th>\n",
              "      <td>2000-01-13</td>\n",
              "      <td>5.343750</td>\n",
              "      <td>5.343750</td>\n",
              "      <td>4.875000</td>\n",
              "      <td>4.968750</td>\n",
              "      <td>3.371726</td>\n",
              "      <td>2560000</td>\n",
              "    </tr>\n",
              "    <tr>\n",
              "      <th>9</th>\n",
              "      <td>2000-01-14</td>\n",
              "      <td>5.100586</td>\n",
              "      <td>5.269531</td>\n",
              "      <td>4.644531</td>\n",
              "      <td>4.658203</td>\n",
              "      <td>3.160994</td>\n",
              "      <td>7091200</td>\n",
              "    </tr>\n",
              "  </tbody>\n",
              "</table>\n",
              "</div>\n",
              "      <button class=\"colab-df-convert\" onclick=\"convertToInteractive('df-2fd70360-741b-4416-9605-2cd9569d5ebc')\"\n",
              "              title=\"Convert this dataframe to an interactive table.\"\n",
              "              style=\"display:none;\">\n",
              "        \n",
              "  <svg xmlns=\"http://www.w3.org/2000/svg\" height=\"24px\"viewBox=\"0 0 24 24\"\n",
              "       width=\"24px\">\n",
              "    <path d=\"M0 0h24v24H0V0z\" fill=\"none\"/>\n",
              "    <path d=\"M18.56 5.44l.94 2.06.94-2.06 2.06-.94-2.06-.94-.94-2.06-.94 2.06-2.06.94zm-11 1L8.5 8.5l.94-2.06 2.06-.94-2.06-.94L8.5 2.5l-.94 2.06-2.06.94zm10 10l.94 2.06.94-2.06 2.06-.94-2.06-.94-.94-2.06-.94 2.06-2.06.94z\"/><path d=\"M17.41 7.96l-1.37-1.37c-.4-.4-.92-.59-1.43-.59-.52 0-1.04.2-1.43.59L10.3 9.45l-7.72 7.72c-.78.78-.78 2.05 0 2.83L4 21.41c.39.39.9.59 1.41.59.51 0 1.02-.2 1.41-.59l7.78-7.78 2.81-2.81c.8-.78.8-2.07 0-2.86zM5.41 20L4 18.59l7.72-7.72 1.47 1.35L5.41 20z\"/>\n",
              "  </svg>\n",
              "      </button>\n",
              "      \n",
              "  <style>\n",
              "    .colab-df-container {\n",
              "      display:flex;\n",
              "      flex-wrap:wrap;\n",
              "      gap: 12px;\n",
              "    }\n",
              "\n",
              "    .colab-df-convert {\n",
              "      background-color: #E8F0FE;\n",
              "      border: none;\n",
              "      border-radius: 50%;\n",
              "      cursor: pointer;\n",
              "      display: none;\n",
              "      fill: #1967D2;\n",
              "      height: 32px;\n",
              "      padding: 0 0 0 0;\n",
              "      width: 32px;\n",
              "    }\n",
              "\n",
              "    .colab-df-convert:hover {\n",
              "      background-color: #E2EBFA;\n",
              "      box-shadow: 0px 1px 2px rgba(60, 64, 67, 0.3), 0px 1px 3px 1px rgba(60, 64, 67, 0.15);\n",
              "      fill: #174EA6;\n",
              "    }\n",
              "\n",
              "    [theme=dark] .colab-df-convert {\n",
              "      background-color: #3B4455;\n",
              "      fill: #D2E3FC;\n",
              "    }\n",
              "\n",
              "    [theme=dark] .colab-df-convert:hover {\n",
              "      background-color: #434B5C;\n",
              "      box-shadow: 0px 1px 3px 1px rgba(0, 0, 0, 0.15);\n",
              "      filter: drop-shadow(0px 1px 2px rgba(0, 0, 0, 0.3));\n",
              "      fill: #FFFFFF;\n",
              "    }\n",
              "  </style>\n",
              "\n",
              "      <script>\n",
              "        const buttonEl =\n",
              "          document.querySelector('#df-2fd70360-741b-4416-9605-2cd9569d5ebc button.colab-df-convert');\n",
              "        buttonEl.style.display =\n",
              "          google.colab.kernel.accessAllowed ? 'block' : 'none';\n",
              "\n",
              "        async function convertToInteractive(key) {\n",
              "          const element = document.querySelector('#df-2fd70360-741b-4416-9605-2cd9569d5ebc');\n",
              "          const dataTable =\n",
              "            await google.colab.kernel.invokeFunction('convertToInteractive',\n",
              "                                                     [key], {});\n",
              "          if (!dataTable) return;\n",
              "\n",
              "          const docLinkHtml = 'Like what you see? Visit the ' +\n",
              "            '<a target=\"_blank\" href=https://colab.research.google.com/notebooks/data_table.ipynb>data table notebook</a>'\n",
              "            + ' to learn more about interactive tables.';\n",
              "          element.innerHTML = '';\n",
              "          dataTable['output_type'] = 'display_data';\n",
              "          await google.colab.output.renderOutput(dataTable, element);\n",
              "          const docLink = document.createElement('div');\n",
              "          docLink.innerHTML = docLinkHtml;\n",
              "          element.appendChild(docLink);\n",
              "        }\n",
              "      </script>\n",
              "    </div>\n",
              "  </div>\n",
              "  "
            ]
          },
          "metadata": {},
          "execution_count": 4
        }
      ],
      "source": [
        "# Read dataset and see first ten rows\n",
        "df=pd.read_csv(\"/content/drive/MyDrive/INFY.csv\")\n",
        "df.head(10)"
      ]
    },
    {
      "cell_type": "code",
      "execution_count": null,
      "metadata": {
        "colab": {
          "base_uri": "https://localhost:8080/",
          "height": 206
        },
        "id": "3-16cNkmTsKC",
        "outputId": "48973a0d-6fbd-4f84-a127-7ea329b46d30"
      },
      "outputs": [
        {
          "output_type": "execute_result",
          "data": {
            "text/plain": [
              "            Date       Open       High    Low      Close  Adj Close   Volume\n",
              "5782  2022-12-23  17.820000  17.950001  17.73  17.920000  17.920000  3685100\n",
              "5783  2022-12-27  18.010000  18.090000  17.84  18.030001  18.030001  4943200\n",
              "5784  2022-12-28  18.049999  18.190001  17.92  17.959999  17.959999  5872100\n",
              "5785  2022-12-29  18.090000  18.379999  18.09  18.240000  18.240000  4971600\n",
              "5786  2022-12-30  18.090000  18.180000  17.85  18.010000  18.010000  4468300"
            ],
            "text/html": [
              "\n",
              "  <div id=\"df-63659f52-336d-440b-b7bc-31b1bfa7fb51\">\n",
              "    <div class=\"colab-df-container\">\n",
              "      <div>\n",
              "<style scoped>\n",
              "    .dataframe tbody tr th:only-of-type {\n",
              "        vertical-align: middle;\n",
              "    }\n",
              "\n",
              "    .dataframe tbody tr th {\n",
              "        vertical-align: top;\n",
              "    }\n",
              "\n",
              "    .dataframe thead th {\n",
              "        text-align: right;\n",
              "    }\n",
              "</style>\n",
              "<table border=\"1\" class=\"dataframe\">\n",
              "  <thead>\n",
              "    <tr style=\"text-align: right;\">\n",
              "      <th></th>\n",
              "      <th>Date</th>\n",
              "      <th>Open</th>\n",
              "      <th>High</th>\n",
              "      <th>Low</th>\n",
              "      <th>Close</th>\n",
              "      <th>Adj Close</th>\n",
              "      <th>Volume</th>\n",
              "    </tr>\n",
              "  </thead>\n",
              "  <tbody>\n",
              "    <tr>\n",
              "      <th>5782</th>\n",
              "      <td>2022-12-23</td>\n",
              "      <td>17.820000</td>\n",
              "      <td>17.950001</td>\n",
              "      <td>17.73</td>\n",
              "      <td>17.920000</td>\n",
              "      <td>17.920000</td>\n",
              "      <td>3685100</td>\n",
              "    </tr>\n",
              "    <tr>\n",
              "      <th>5783</th>\n",
              "      <td>2022-12-27</td>\n",
              "      <td>18.010000</td>\n",
              "      <td>18.090000</td>\n",
              "      <td>17.84</td>\n",
              "      <td>18.030001</td>\n",
              "      <td>18.030001</td>\n",
              "      <td>4943200</td>\n",
              "    </tr>\n",
              "    <tr>\n",
              "      <th>5784</th>\n",
              "      <td>2022-12-28</td>\n",
              "      <td>18.049999</td>\n",
              "      <td>18.190001</td>\n",
              "      <td>17.92</td>\n",
              "      <td>17.959999</td>\n",
              "      <td>17.959999</td>\n",
              "      <td>5872100</td>\n",
              "    </tr>\n",
              "    <tr>\n",
              "      <th>5785</th>\n",
              "      <td>2022-12-29</td>\n",
              "      <td>18.090000</td>\n",
              "      <td>18.379999</td>\n",
              "      <td>18.09</td>\n",
              "      <td>18.240000</td>\n",
              "      <td>18.240000</td>\n",
              "      <td>4971600</td>\n",
              "    </tr>\n",
              "    <tr>\n",
              "      <th>5786</th>\n",
              "      <td>2022-12-30</td>\n",
              "      <td>18.090000</td>\n",
              "      <td>18.180000</td>\n",
              "      <td>17.85</td>\n",
              "      <td>18.010000</td>\n",
              "      <td>18.010000</td>\n",
              "      <td>4468300</td>\n",
              "    </tr>\n",
              "  </tbody>\n",
              "</table>\n",
              "</div>\n",
              "      <button class=\"colab-df-convert\" onclick=\"convertToInteractive('df-63659f52-336d-440b-b7bc-31b1bfa7fb51')\"\n",
              "              title=\"Convert this dataframe to an interactive table.\"\n",
              "              style=\"display:none;\">\n",
              "        \n",
              "  <svg xmlns=\"http://www.w3.org/2000/svg\" height=\"24px\"viewBox=\"0 0 24 24\"\n",
              "       width=\"24px\">\n",
              "    <path d=\"M0 0h24v24H0V0z\" fill=\"none\"/>\n",
              "    <path d=\"M18.56 5.44l.94 2.06.94-2.06 2.06-.94-2.06-.94-.94-2.06-.94 2.06-2.06.94zm-11 1L8.5 8.5l.94-2.06 2.06-.94-2.06-.94L8.5 2.5l-.94 2.06-2.06.94zm10 10l.94 2.06.94-2.06 2.06-.94-2.06-.94-.94-2.06-.94 2.06-2.06.94z\"/><path d=\"M17.41 7.96l-1.37-1.37c-.4-.4-.92-.59-1.43-.59-.52 0-1.04.2-1.43.59L10.3 9.45l-7.72 7.72c-.78.78-.78 2.05 0 2.83L4 21.41c.39.39.9.59 1.41.59.51 0 1.02-.2 1.41-.59l7.78-7.78 2.81-2.81c.8-.78.8-2.07 0-2.86zM5.41 20L4 18.59l7.72-7.72 1.47 1.35L5.41 20z\"/>\n",
              "  </svg>\n",
              "      </button>\n",
              "      \n",
              "  <style>\n",
              "    .colab-df-container {\n",
              "      display:flex;\n",
              "      flex-wrap:wrap;\n",
              "      gap: 12px;\n",
              "    }\n",
              "\n",
              "    .colab-df-convert {\n",
              "      background-color: #E8F0FE;\n",
              "      border: none;\n",
              "      border-radius: 50%;\n",
              "      cursor: pointer;\n",
              "      display: none;\n",
              "      fill: #1967D2;\n",
              "      height: 32px;\n",
              "      padding: 0 0 0 0;\n",
              "      width: 32px;\n",
              "    }\n",
              "\n",
              "    .colab-df-convert:hover {\n",
              "      background-color: #E2EBFA;\n",
              "      box-shadow: 0px 1px 2px rgba(60, 64, 67, 0.3), 0px 1px 3px 1px rgba(60, 64, 67, 0.15);\n",
              "      fill: #174EA6;\n",
              "    }\n",
              "\n",
              "    [theme=dark] .colab-df-convert {\n",
              "      background-color: #3B4455;\n",
              "      fill: #D2E3FC;\n",
              "    }\n",
              "\n",
              "    [theme=dark] .colab-df-convert:hover {\n",
              "      background-color: #434B5C;\n",
              "      box-shadow: 0px 1px 3px 1px rgba(0, 0, 0, 0.15);\n",
              "      filter: drop-shadow(0px 1px 2px rgba(0, 0, 0, 0.3));\n",
              "      fill: #FFFFFF;\n",
              "    }\n",
              "  </style>\n",
              "\n",
              "      <script>\n",
              "        const buttonEl =\n",
              "          document.querySelector('#df-63659f52-336d-440b-b7bc-31b1bfa7fb51 button.colab-df-convert');\n",
              "        buttonEl.style.display =\n",
              "          google.colab.kernel.accessAllowed ? 'block' : 'none';\n",
              "\n",
              "        async function convertToInteractive(key) {\n",
              "          const element = document.querySelector('#df-63659f52-336d-440b-b7bc-31b1bfa7fb51');\n",
              "          const dataTable =\n",
              "            await google.colab.kernel.invokeFunction('convertToInteractive',\n",
              "                                                     [key], {});\n",
              "          if (!dataTable) return;\n",
              "\n",
              "          const docLinkHtml = 'Like what you see? Visit the ' +\n",
              "            '<a target=\"_blank\" href=https://colab.research.google.com/notebooks/data_table.ipynb>data table notebook</a>'\n",
              "            + ' to learn more about interactive tables.';\n",
              "          element.innerHTML = '';\n",
              "          dataTable['output_type'] = 'display_data';\n",
              "          await google.colab.output.renderOutput(dataTable, element);\n",
              "          const docLink = document.createElement('div');\n",
              "          docLink.innerHTML = docLinkHtml;\n",
              "          element.appendChild(docLink);\n",
              "        }\n",
              "      </script>\n",
              "    </div>\n",
              "  </div>\n",
              "  "
            ]
          },
          "metadata": {},
          "execution_count": 6
        }
      ],
      "source": [
        "# check last five entries\n",
        "df.tail()"
      ]
    },
    {
      "cell_type": "markdown",
      "metadata": {
        "id": "CiE8ME0pT0vC"
      },
      "source": [
        "From the first ten rows, we can see that data for some of the dates is missing the reason for that is on weekends and holidays Stock Market remains closed hence no trading happens on these days."
      ]
    },
    {
      "cell_type": "code",
      "execution_count": null,
      "metadata": {
        "colab": {
          "base_uri": "https://localhost:8080/"
        },
        "id": "VLIMoESRuiiv",
        "outputId": "7212f98a-9dc1-4f44-9789-59591d67ec5f"
      },
      "outputs": [
        {
          "output_type": "execute_result",
          "data": {
            "text/plain": [
              "(5787, 7)"
            ]
          },
          "metadata": {},
          "execution_count": 7
        }
      ],
      "source": [
        "df.shape "
      ]
    },
    {
      "cell_type": "markdown",
      "metadata": {
        "id": "zdtPqhuWUB_a"
      },
      "source": [
        "From this, we got to know that there are 5787 rows of data available and for each row, we have 7 different features or columns."
      ]
    },
    {
      "cell_type": "code",
      "execution_count": null,
      "metadata": {
        "colab": {
          "base_uri": "https://localhost:8080/"
        },
        "id": "IxTbNM7ZaFnQ",
        "outputId": "aa279ddb-62e0-4638-f106-44f3cbf1a3d0"
      },
      "outputs": [
        {
          "output_type": "stream",
          "name": "stdout",
          "text": [
            "<class 'pandas.core.frame.DataFrame'>\n",
            "RangeIndex: 5787 entries, 0 to 5786\n",
            "Data columns (total 7 columns):\n",
            " #   Column     Non-Null Count  Dtype  \n",
            "---  ------     --------------  -----  \n",
            " 0   Date       5787 non-null   object \n",
            " 1   Open       5787 non-null   float64\n",
            " 2   High       5787 non-null   float64\n",
            " 3   Low        5787 non-null   float64\n",
            " 4   Close      5787 non-null   float64\n",
            " 5   Adj Close  5787 non-null   float64\n",
            " 6   Volume     5787 non-null   int64  \n",
            "dtypes: float64(5), int64(1), object(1)\n",
            "memory usage: 316.6+ KB\n"
          ]
        }
      ],
      "source": [
        "df.info()  "
      ]
    },
    {
      "cell_type": "code",
      "execution_count": null,
      "metadata": {
        "colab": {
          "base_uri": "https://localhost:8080/",
          "height": 300
        },
        "id": "mtga1rw0uojl",
        "outputId": "ef29f352-eca6-4469-c6bc-50198f038fad"
      },
      "outputs": [
        {
          "output_type": "execute_result",
          "data": {
            "text/plain": [
              "              Open         High          Low        Close    Adj Close  \\\n",
              "count  5787.000000  5787.000000  5787.000000  5787.000000  5787.000000   \n",
              "mean      7.477093     7.559846     7.392994     7.477786     6.304148   \n",
              "std       4.893667     4.924424     4.864108     4.895696     5.025273   \n",
              "min       1.015938     1.070938     0.956250     1.031875     0.701403   \n",
              "25%       4.466875     4.530625     4.405625     4.470625     3.154488   \n",
              "50%       6.706250     6.765000     6.637500     6.700000     5.121497   \n",
              "75%       8.783750     8.866250     8.680000     8.775000     7.239282   \n",
              "max      26.150000    26.389999    25.580000    26.200001    25.631620   \n",
              "\n",
              "             Volume  \n",
              "count  5.787000e+03  \n",
              "mean   1.165400e+07  \n",
              "std    9.102631e+06  \n",
              "min    3.360000e+05  \n",
              "25%    6.126400e+06  \n",
              "50%    9.566400e+06  \n",
              "75%    1.456960e+07  \n",
              "max    1.475912e+08  "
            ],
            "text/html": [
              "\n",
              "  <div id=\"df-c61e720f-8806-41ac-ae2c-f348c31da201\">\n",
              "    <div class=\"colab-df-container\">\n",
              "      <div>\n",
              "<style scoped>\n",
              "    .dataframe tbody tr th:only-of-type {\n",
              "        vertical-align: middle;\n",
              "    }\n",
              "\n",
              "    .dataframe tbody tr th {\n",
              "        vertical-align: top;\n",
              "    }\n",
              "\n",
              "    .dataframe thead th {\n",
              "        text-align: right;\n",
              "    }\n",
              "</style>\n",
              "<table border=\"1\" class=\"dataframe\">\n",
              "  <thead>\n",
              "    <tr style=\"text-align: right;\">\n",
              "      <th></th>\n",
              "      <th>Open</th>\n",
              "      <th>High</th>\n",
              "      <th>Low</th>\n",
              "      <th>Close</th>\n",
              "      <th>Adj Close</th>\n",
              "      <th>Volume</th>\n",
              "    </tr>\n",
              "  </thead>\n",
              "  <tbody>\n",
              "    <tr>\n",
              "      <th>count</th>\n",
              "      <td>5787.000000</td>\n",
              "      <td>5787.000000</td>\n",
              "      <td>5787.000000</td>\n",
              "      <td>5787.000000</td>\n",
              "      <td>5787.000000</td>\n",
              "      <td>5.787000e+03</td>\n",
              "    </tr>\n",
              "    <tr>\n",
              "      <th>mean</th>\n",
              "      <td>7.477093</td>\n",
              "      <td>7.559846</td>\n",
              "      <td>7.392994</td>\n",
              "      <td>7.477786</td>\n",
              "      <td>6.304148</td>\n",
              "      <td>1.165400e+07</td>\n",
              "    </tr>\n",
              "    <tr>\n",
              "      <th>std</th>\n",
              "      <td>4.893667</td>\n",
              "      <td>4.924424</td>\n",
              "      <td>4.864108</td>\n",
              "      <td>4.895696</td>\n",
              "      <td>5.025273</td>\n",
              "      <td>9.102631e+06</td>\n",
              "    </tr>\n",
              "    <tr>\n",
              "      <th>min</th>\n",
              "      <td>1.015938</td>\n",
              "      <td>1.070938</td>\n",
              "      <td>0.956250</td>\n",
              "      <td>1.031875</td>\n",
              "      <td>0.701403</td>\n",
              "      <td>3.360000e+05</td>\n",
              "    </tr>\n",
              "    <tr>\n",
              "      <th>25%</th>\n",
              "      <td>4.466875</td>\n",
              "      <td>4.530625</td>\n",
              "      <td>4.405625</td>\n",
              "      <td>4.470625</td>\n",
              "      <td>3.154488</td>\n",
              "      <td>6.126400e+06</td>\n",
              "    </tr>\n",
              "    <tr>\n",
              "      <th>50%</th>\n",
              "      <td>6.706250</td>\n",
              "      <td>6.765000</td>\n",
              "      <td>6.637500</td>\n",
              "      <td>6.700000</td>\n",
              "      <td>5.121497</td>\n",
              "      <td>9.566400e+06</td>\n",
              "    </tr>\n",
              "    <tr>\n",
              "      <th>75%</th>\n",
              "      <td>8.783750</td>\n",
              "      <td>8.866250</td>\n",
              "      <td>8.680000</td>\n",
              "      <td>8.775000</td>\n",
              "      <td>7.239282</td>\n",
              "      <td>1.456960e+07</td>\n",
              "    </tr>\n",
              "    <tr>\n",
              "      <th>max</th>\n",
              "      <td>26.150000</td>\n",
              "      <td>26.389999</td>\n",
              "      <td>25.580000</td>\n",
              "      <td>26.200001</td>\n",
              "      <td>25.631620</td>\n",
              "      <td>1.475912e+08</td>\n",
              "    </tr>\n",
              "  </tbody>\n",
              "</table>\n",
              "</div>\n",
              "      <button class=\"colab-df-convert\" onclick=\"convertToInteractive('df-c61e720f-8806-41ac-ae2c-f348c31da201')\"\n",
              "              title=\"Convert this dataframe to an interactive table.\"\n",
              "              style=\"display:none;\">\n",
              "        \n",
              "  <svg xmlns=\"http://www.w3.org/2000/svg\" height=\"24px\"viewBox=\"0 0 24 24\"\n",
              "       width=\"24px\">\n",
              "    <path d=\"M0 0h24v24H0V0z\" fill=\"none\"/>\n",
              "    <path d=\"M18.56 5.44l.94 2.06.94-2.06 2.06-.94-2.06-.94-.94-2.06-.94 2.06-2.06.94zm-11 1L8.5 8.5l.94-2.06 2.06-.94-2.06-.94L8.5 2.5l-.94 2.06-2.06.94zm10 10l.94 2.06.94-2.06 2.06-.94-2.06-.94-.94-2.06-.94 2.06-2.06.94z\"/><path d=\"M17.41 7.96l-1.37-1.37c-.4-.4-.92-.59-1.43-.59-.52 0-1.04.2-1.43.59L10.3 9.45l-7.72 7.72c-.78.78-.78 2.05 0 2.83L4 21.41c.39.39.9.59 1.41.59.51 0 1.02-.2 1.41-.59l7.78-7.78 2.81-2.81c.8-.78.8-2.07 0-2.86zM5.41 20L4 18.59l7.72-7.72 1.47 1.35L5.41 20z\"/>\n",
              "  </svg>\n",
              "      </button>\n",
              "      \n",
              "  <style>\n",
              "    .colab-df-container {\n",
              "      display:flex;\n",
              "      flex-wrap:wrap;\n",
              "      gap: 12px;\n",
              "    }\n",
              "\n",
              "    .colab-df-convert {\n",
              "      background-color: #E8F0FE;\n",
              "      border: none;\n",
              "      border-radius: 50%;\n",
              "      cursor: pointer;\n",
              "      display: none;\n",
              "      fill: #1967D2;\n",
              "      height: 32px;\n",
              "      padding: 0 0 0 0;\n",
              "      width: 32px;\n",
              "    }\n",
              "\n",
              "    .colab-df-convert:hover {\n",
              "      background-color: #E2EBFA;\n",
              "      box-shadow: 0px 1px 2px rgba(60, 64, 67, 0.3), 0px 1px 3px 1px rgba(60, 64, 67, 0.15);\n",
              "      fill: #174EA6;\n",
              "    }\n",
              "\n",
              "    [theme=dark] .colab-df-convert {\n",
              "      background-color: #3B4455;\n",
              "      fill: #D2E3FC;\n",
              "    }\n",
              "\n",
              "    [theme=dark] .colab-df-convert:hover {\n",
              "      background-color: #434B5C;\n",
              "      box-shadow: 0px 1px 3px 1px rgba(0, 0, 0, 0.15);\n",
              "      filter: drop-shadow(0px 1px 2px rgba(0, 0, 0, 0.3));\n",
              "      fill: #FFFFFF;\n",
              "    }\n",
              "  </style>\n",
              "\n",
              "      <script>\n",
              "        const buttonEl =\n",
              "          document.querySelector('#df-c61e720f-8806-41ac-ae2c-f348c31da201 button.colab-df-convert');\n",
              "        buttonEl.style.display =\n",
              "          google.colab.kernel.accessAllowed ? 'block' : 'none';\n",
              "\n",
              "        async function convertToInteractive(key) {\n",
              "          const element = document.querySelector('#df-c61e720f-8806-41ac-ae2c-f348c31da201');\n",
              "          const dataTable =\n",
              "            await google.colab.kernel.invokeFunction('convertToInteractive',\n",
              "                                                     [key], {});\n",
              "          if (!dataTable) return;\n",
              "\n",
              "          const docLinkHtml = 'Like what you see? Visit the ' +\n",
              "            '<a target=\"_blank\" href=https://colab.research.google.com/notebooks/data_table.ipynb>data table notebook</a>'\n",
              "            + ' to learn more about interactive tables.';\n",
              "          element.innerHTML = '';\n",
              "          dataTable['output_type'] = 'display_data';\n",
              "          await google.colab.output.renderOutput(dataTable, element);\n",
              "          const docLink = document.createElement('div');\n",
              "          docLink.innerHTML = docLinkHtml;\n",
              "          element.appendChild(docLink);\n",
              "        }\n",
              "      </script>\n",
              "    </div>\n",
              "  </div>\n",
              "  "
            ]
          },
          "metadata": {},
          "execution_count": 9
        }
      ],
      "source": [
        "df.describe()"
      ]
    },
    {
      "cell_type": "markdown",
      "metadata": {
        "id": "BS8Pnf_zUnrj"
      },
      "source": [
        "**Exploratory Data Analysis :**\n",
        "\n",
        "EDA is an approach to analyzing the data using visual techniques. It is used to discover trends, and patterns, or to check assumptions with the help of statistical summaries and graphical representations. \n",
        "\n",
        "While performing the EDA of the Infosys Stock Price data we will analyze how prices of the stock have moved over the period of time and how the end of the quarters affects the prices of the stock.\n",
        "\n"
      ]
    },
    {
      "cell_type": "code",
      "execution_count": null,
      "metadata": {
        "colab": {
          "base_uri": "https://localhost:8080/",
          "height": 352
        },
        "id": "AqfbRT3oUb06",
        "outputId": "a0564fa1-c50d-45c3-a256-cc57bcb4fe2c"
      },
      "outputs": [
        {
          "output_type": "display_data",
          "data": {
            "text/plain": [
              "<Figure size 1080x360 with 1 Axes>"
            ],
            "image/png": "[encoded data removed]"
          },
          "metadata": {
            "needs_background": "light"
          }
        }
      ],
      "source": [
        "plt.figure(figsize=(15,5))\n",
        "plt.plot(df['Close'])\n",
        "plt.title('Infosys Close price.', fontsize=15)\n",
        "plt.xlabel(\"Days\")\n",
        "plt.ylabel('Price')\n",
        "plt.show()"
      ]
    },
    {
      "cell_type": "code",
      "source": [
        "df['Date'] = pd.to_datetime(df.Date,format='%Y-%m-%d %H:%M:%S')\n",
        "df.index = df['Date']\n",
        "plt.figure(figsize=(15,5))\n",
        "plt.plot(df['Close'], label='Close Price history',color='g')\n",
        "plt.xlabel('Date',size=11)\n",
        "plt.ylabel('Stock Price',size=11)\n",
        "plt.title('Stock Price of Infosys over the Years',size=14)"
      ],
      "metadata": {
        "colab": {
          "base_uri": "https://localhost:8080/",
          "height": 368
        },
        "id": "LpdRwQabuod6",
        "outputId": "b7b557fe-d009-407e-e0ae-937cf4279ead"
      },
      "execution_count": null,
      "outputs": [
        {
          "output_type": "execute_result",
          "data": {
            "text/plain": [
              "Text(0.5, 1.0, 'Stock Price of Infosys over the Years')"
            ]
          },
          "metadata": {},
          "execution_count": 12
        },
        {
          "output_type": "display_data",
          "data": {
            "text/plain": [
              "<Figure size 1080x360 with 1 Axes>"
            ],
            "image/png": "[encoded data removed]"
          },
          "metadata": {
            "needs_background": "light"
          }
        }
      ]
    },
    {
      "cell_type": "markdown",
      "metadata": {
        "id": "ETc0ByZ9VglF"
      },
      "source": [
        "The prices of stocks are showing an upward and somewhere downward trend as depicted by the plot of the closing price of the stocks."
      ]
    },
    {
      "cell_type": "code",
      "execution_count": null,
      "metadata": {
        "id": "rTCoZMQJgHIh"
      },
      "outputs": [],
      "source": [
        "df = df.drop(['Adj Close'], axis=1)"
      ]
    },
    {
      "cell_type": "markdown",
      "metadata": {
        "id": "82YF2nx_gPtN"
      },
      "source": [
        " So, having redundant data in the dataset is not going to help so, we’ll drop this column before further analysis."
      ]
    },
    {
      "cell_type": "markdown",
      "metadata": {
        "id": "ILQYtJwQiRxC"
      },
      "source": [
        "**Now lets check for the Null values in the Dataframe:**"
      ]
    },
    {
      "cell_type": "code",
      "execution_count": null,
      "metadata": {
        "colab": {
          "base_uri": "https://localhost:8080/"
        },
        "id": "0gievcDYgHTp",
        "outputId": "e2ee8418-a0d2-4f5a-cadc-bf89d514080b"
      },
      "outputs": [
        {
          "output_type": "execute_result",
          "data": {
            "text/plain": [
              "Date      0\n",
              "Open      0\n",
              "High      0\n",
              "Low       0\n",
              "Close     0\n",
              "Volume    0\n",
              "dtype: int64"
            ]
          },
          "metadata": {},
          "execution_count": 14
        }
      ],
      "source": [
        "df.isnull().sum()"
      ]
    },
    {
      "cell_type": "markdown",
      "metadata": {
        "id": "QfWh6QlTixmT"
      },
      "source": [
        "This implies that there are no null values in the data set provided."
      ]
    },
    {
      "cell_type": "markdown",
      "metadata": {
        "id": "sVx9a6a2jAWn"
      },
      "source": [
        "**Now let’s draw the distribution plot for the continuous features given in the dataset.**"
      ]
    },
    {
      "cell_type": "code",
      "execution_count": null,
      "metadata": {
        "colab": {
          "base_uri": "https://localhost:8080/",
          "height": 800
        },
        "id": "G4hSmojri6NX",
        "outputId": "5b802ec3-3067-4a4a-a617-50da34993b63"
      },
      "outputs": [
        {
          "output_type": "stream",
          "name": "stderr",
          "text": [
            "/usr/local/lib/python3.8/dist-packages/seaborn/distributions.py:2619: FutureWarning: `distplot` is a deprecated function and will be removed in a future version. Please adapt your code to use either `displot` (a figure-level function with similar flexibility) or `histplot` (an axes-level function for histograms).\n",
            "  warnings.warn(msg, FutureWarning)\n",
            "/usr/local/lib/python3.8/dist-packages/seaborn/distributions.py:2619: FutureWarning: `distplot` is a deprecated function and will be removed in a future version. Please adapt your code to use either `displot` (a figure-level function with similar flexibility) or `histplot` (an axes-level function for histograms).\n",
            "  warnings.warn(msg, FutureWarning)\n",
            "/usr/local/lib/python3.8/dist-packages/seaborn/distributions.py:2619: FutureWarning: `distplot` is a deprecated function and will be removed in a future version. Please adapt your code to use either `displot` (a figure-level function with similar flexibility) or `histplot` (an axes-level function for histograms).\n",
            "  warnings.warn(msg, FutureWarning)\n",
            "/usr/local/lib/python3.8/dist-packages/seaborn/distributions.py:2619: FutureWarning: `distplot` is a deprecated function and will be removed in a future version. Please adapt your code to use either `displot` (a figure-level function with similar flexibility) or `histplot` (an axes-level function for histograms).\n",
            "  warnings.warn(msg, FutureWarning)\n",
            "/usr/local/lib/python3.8/dist-packages/seaborn/distributions.py:2619: FutureWarning: `distplot` is a deprecated function and will be removed in a future version. Please adapt your code to use either `displot` (a figure-level function with similar flexibility) or `histplot` (an axes-level function for histograms).\n",
            "  warnings.warn(msg, FutureWarning)\n"
          ]
        },
        {
          "output_type": "display_data",
          "data": {
            "text/plain": [
              "<Figure size 864x720 with 5 Axes>"
            ],
            "image/png": "[encoded data removed]"
          },
          "metadata": {
            "needs_background": "light"
          }
        }
      ],
      "source": [
        "features = ['Open', 'High', 'Low', 'Close', 'Volume']\n",
        " \n",
        "plt.subplots(figsize=(12,10))\n",
        " \n",
        "for i, col in enumerate(features):\n",
        "  plt.subplot(2,3,i+1)\n",
        "  sns.distplot(df[col])\n",
        "plt.show()"
      ]
    },
    {
      "cell_type": "markdown",
      "metadata": {
        "id": "fnUmz8-Zj7a3"
      },
      "source": [
        "In the distribution plot of OHLC data, we can see two peaks which means the data has varied significantly in two regions. And the Volume data is left-skewed"
      ]
    },
    {
      "cell_type": "code",
      "execution_count": null,
      "metadata": {
        "colab": {
          "base_uri": "https://localhost:8080/",
          "height": 513
        },
        "id": "Lwh0sYeVkldT",
        "outputId": "7872b23c-eb7f-4238-b825-67ef9b670897"
      },
      "outputs": [
        {
          "output_type": "display_data",
          "data": {
            "text/plain": [
              "<Figure size 720x576 with 1 Axes>"
            ],
            "image/png": "[encoded data removed]"
          },
          "metadata": {
            "needs_background": "light"
          }
        }
      ],
      "source": [
        "import seaborn as sns\n",
        "fig, ax = plt.subplots(figsize=(10, 8))\n",
        "plot1 = sns.scatterplot(data=df.head(100), x=\"Open\", y=\"Close\", ax=ax)\n",
        "plot1.set(title='Open v/s Close')\n",
        "plt.show()"
      ]
    },
    {
      "cell_type": "markdown",
      "metadata": {
        "id": "9VVaOAxTNjEi"
      },
      "source": [
        "**MODEL BUILDING:**"
      ]
    },
    {
      "cell_type": "markdown",
      "metadata": {
        "id": "bfCfY5mEKVlV"
      },
      "source": [
        "**Data Splitting and Normalization:**"
      ]
    },
    {
      "cell_type": "code",
      "execution_count": null,
      "metadata": {
        "colab": {
          "base_uri": "https://localhost:8080/"
        },
        "id": "9g-UTPFrKdFt",
        "outputId": "af2995d0-075b-41da-bdf4-3b29d48044d7"
      },
      "outputs": [
        {
          "output_type": "stream",
          "name": "stdout",
          "text": [
            "(4629, 3) (1158, 3)\n"
          ]
        }
      ],
      "source": [
        "features = df[['Open','High','Low']]\n",
        "target = df['Close']\n",
        " \n",
        "scaler = StandardScaler()\n",
        "features = scaler.fit_transform(features)\n",
        " \n",
        "X_train, X_test, y_train, y_test = train_test_split(features, target, test_size=0.3, random_state=42)\n",
        "print(X_train.shape, X_test.shape)\n"
      ]
    },
    {
      "cell_type": "markdown",
      "metadata": {
        "id": "TbZuaaZCKy7V"
      },
      "source": [
        "After selecting the features to train the model on we should normalize the data because normalized data leads to stable and fast training of the model. After that whole data has been split into two parts with a 90/10 ratio so, that we can evaluate the performance of our model on unseen data."
      ]
    },
    {
      "cell_type": "markdown",
      "metadata": {
        "id": "_OHYmkExLPes"
      },
      "source": [
        "**Model Development and Evaluation:**"
      ]
    },
    {
      "cell_type": "markdown",
      "metadata": {
        "id": "55fAPt1KLZ0h"
      },
      "source": [
        "Now is the time to train some state-of-the-art machine learning models(Linear Regression,Logistic Regression, Support Vector Machine, Decision Tree, Random Forest ), and then based on their performance on the training and validation data we will choose which ML model is serving the purpose at hand better.\n"
      ]
    },
    {
      "cell_type": "markdown",
      "metadata": {
        "id": "fgaelyKDvP2r"
      },
      "source": [
        "**Linear Regression:**"
      ]
    },
    {
      "cell_type": "code",
      "execution_count": null,
      "metadata": {
        "id": "UTQdEtfyOdPH",
        "colab": {
          "base_uri": "https://localhost:8080/"
        },
        "outputId": "20668e26-d1e4-4012-80dc-5a6dad22e8e4"
      },
      "outputs": [
        {
          "output_type": "stream",
          "name": "stdout",
          "text": [
            "MAE 0.034886762641324065\n",
            "MSE 0.0025199650072413276\n",
            "R2 score 0.9999016543294509\n"
          ]
        }
      ],
      "source": [
        "model1 = LinearRegression()\n",
        "model1.fit(X_train,y_train)\n",
        "y_pred1 = model1.predict(X_test)\n",
        "     \n",
        "\n",
        "print(\"MAE\",mean_absolute_error(y_test,y_pred1))\n",
        "print(\"MSE\",mean_squared_error(y_test,y_pred1))\n",
        "print(\"R2 score\",r2_score(y_test,y_pred1))"
      ]
    },
    {
      "cell_type": "code",
      "source": [
        "print(\"Co-efficient: \", model1.coef_)\n",
        "print(\"\\nIntercept: \", model1.intercept_)"
      ],
      "metadata": {
        "colab": {
          "base_uri": "https://localhost:8080/"
        },
        "id": "74c1rrB808i5",
        "outputId": "7a764c7d-c44c-4bea-d1af-8f1072b4fbf6"
      },
      "execution_count": null,
      "outputs": [
        {
          "output_type": "stream",
          "name": "stdout",
          "text": [
            "Co-efficient:  [-2.66972039  3.98794818  3.57698106]\n",
            "\n",
            "Intercept:  7.477741435727825\n"
          ]
        }
      ]
    },
    {
      "cell_type": "code",
      "source": [
        "df1 = pd.DataFrame(list(zip(y_test, y_pred1)), columns=[\"Actual Values\", \"Predicted Values\"])"
      ],
      "metadata": {
        "id": "mlw8lQRI08mL"
      },
      "execution_count": null,
      "outputs": []
    },
    {
      "cell_type": "code",
      "source": [
        "df1.head().style.hide_index()"
      ],
      "metadata": {
        "colab": {
          "base_uri": "https://localhost:8080/",
          "height": 206
        },
        "id": "0F96eUCN08pE",
        "outputId": "77098527-5ae6-46fa-fc5e-34f04c0dd087"
      },
      "execution_count": null,
      "outputs": [
        {
          "output_type": "execute_result",
          "data": {
            "text/plain": [
              "<pandas.io.formats.style.Styler at 0x7f173c12f910>"
            ],
            "text/html": [
              "<style type=\"text/css\">\n",
              "</style>\n",
              "<table id=\"T_ab78c_\" class=\"dataframe\">\n",
              "  <thead>\n",
              "    <tr>\n",
              "      <th class=\"col_heading level0 col0\" >Actual Values</th>\n",
              "      <th class=\"col_heading level0 col1\" >Predicted Values</th>\n",
              "    </tr>\n",
              "  </thead>\n",
              "  <tbody>\n",
              "    <tr>\n",
              "      <td id=\"T_ab78c_row0_col0\" class=\"data row0 col0\" >11.700000</td>\n",
              "      <td id=\"T_ab78c_row0_col1\" class=\"data row0 col1\" >11.643864</td>\n",
              "    </tr>\n",
              "    <tr>\n",
              "      <td id=\"T_ab78c_row1_col0\" class=\"data row1 col0\" >9.300000</td>\n",
              "      <td id=\"T_ab78c_row1_col1\" class=\"data row1 col1\" >9.260724</td>\n",
              "    </tr>\n",
              "    <tr>\n",
              "      <td id=\"T_ab78c_row2_col0\" class=\"data row2 col0\" >2.370938</td>\n",
              "      <td id=\"T_ab78c_row2_col1\" class=\"data row2 col1\" >2.403449</td>\n",
              "    </tr>\n",
              "    <tr>\n",
              "      <td id=\"T_ab78c_row3_col0\" class=\"data row3 col0\" >5.910000</td>\n",
              "      <td id=\"T_ab78c_row3_col1\" class=\"data row3 col1\" >5.912094</td>\n",
              "    </tr>\n",
              "    <tr>\n",
              "      <td id=\"T_ab78c_row4_col0\" class=\"data row4 col0\" >4.355469</td>\n",
              "      <td id=\"T_ab78c_row4_col1\" class=\"data row4 col1\" >4.317002</td>\n",
              "    </tr>\n",
              "  </tbody>\n",
              "</table>\n"
            ]
          },
          "metadata": {},
          "execution_count": 24
        }
      ]
    },
    {
      "cell_type": "code",
      "source": [
        "df1.head(50).plot(kind=\"bar\", figsize=(20, 10), title='Simple Linear Regression')\n",
        "plt.show()"
      ],
      "metadata": {
        "colab": {
          "base_uri": "https://localhost:8080/",
          "height": 591
        },
        "id": "_Dtiz3xD08r3",
        "outputId": "e3ea3d9b-1301-443d-fe92-c137a27a2f90"
      },
      "execution_count": null,
      "outputs": [
        {
          "output_type": "display_data",
          "data": {
            "text/plain": [
              "<Figure size 1440x720 with 1 Axes>"
            ],
            "image/png": "[encoded data removed]"
          },
          "metadata": {
            "needs_background": "light"
          }
        }
      ]
    },
    {
      "cell_type": "markdown",
      "source": [
        "**Support Vector Machine (SVR)**"
      ],
      "metadata": {
        "id": "4pjHS9Cc17xG"
      }
    },
    {
      "cell_type": "code",
      "source": [
        "model2 = SVR(kernel=\"rbf\", gamma = 0.01, C=100)\n",
        "model2.fit(X_train, y_train)\n",
        "y_pred2 = model2.predict(X_test)\n",
        "\n",
        "print(\"MAE\",mean_absolute_error(y_test,y_pred2))\n",
        "print(\"MSE\",mean_squared_error(y_test,y_pred2))\n",
        "print(\"R2 score\",r2_score(y_test,y_pred2))"
      ],
      "metadata": {
        "colab": {
          "base_uri": "https://localhost:8080/"
        },
        "id": "uiT5OX8Z1g1M",
        "outputId": "b6142dce-9e81-4d9a-a99e-b827a477caac"
      },
      "execution_count": null,
      "outputs": [
        {
          "output_type": "stream",
          "name": "stdout",
          "text": [
            "MAE 0.0400496233287711\n",
            "MSE 0.003123979182505276\n",
            "R2 score 0.9998780817088324\n"
          ]
        }
      ]
    },
    {
      "cell_type": "code",
      "source": [
        "df2 = pd.DataFrame(list(zip(y_test, y_pred2)), columns=[\"Actual Values\", \"Predicted Values\"])\n",
        "df2.head().style.hide_index()"
      ],
      "metadata": {
        "colab": {
          "base_uri": "https://localhost:8080/",
          "height": 206
        },
        "id": "GhKZpyBz1g3-",
        "outputId": "c61aa4e9-e588-4a3e-ef63-09f662c507ed"
      },
      "execution_count": null,
      "outputs": [
        {
          "output_type": "execute_result",
          "data": {
            "text/plain": [
              "<pandas.io.formats.style.Styler at 0x7f1703c0e2b0>"
            ],
            "text/html": [
              "<style type=\"text/css\">\n",
              "</style>\n",
              "<table id=\"T_446f0_\" class=\"dataframe\">\n",
              "  <thead>\n",
              "    <tr>\n",
              "      <th class=\"col_heading level0 col0\" >Actual Values</th>\n",
              "      <th class=\"col_heading level0 col1\" >Predicted Values</th>\n",
              "    </tr>\n",
              "  </thead>\n",
              "  <tbody>\n",
              "    <tr>\n",
              "      <td id=\"T_446f0_row0_col0\" class=\"data row0 col0\" >11.700000</td>\n",
              "      <td id=\"T_446f0_row0_col1\" class=\"data row0 col1\" >11.643330</td>\n",
              "    </tr>\n",
              "    <tr>\n",
              "      <td id=\"T_446f0_row1_col0\" class=\"data row1 col0\" >9.300000</td>\n",
              "      <td id=\"T_446f0_row1_col1\" class=\"data row1 col1\" >9.264616</td>\n",
              "    </tr>\n",
              "    <tr>\n",
              "      <td id=\"T_446f0_row2_col0\" class=\"data row2 col0\" >2.370938</td>\n",
              "      <td id=\"T_446f0_row2_col1\" class=\"data row2 col1\" >2.407545</td>\n",
              "    </tr>\n",
              "    <tr>\n",
              "      <td id=\"T_446f0_row3_col0\" class=\"data row3 col0\" >5.910000</td>\n",
              "      <td id=\"T_446f0_row3_col1\" class=\"data row3 col1\" >5.901697</td>\n",
              "    </tr>\n",
              "    <tr>\n",
              "      <td id=\"T_446f0_row4_col0\" class=\"data row4 col0\" >4.355469</td>\n",
              "      <td id=\"T_446f0_row4_col1\" class=\"data row4 col1\" >4.308255</td>\n",
              "    </tr>\n",
              "  </tbody>\n",
              "</table>\n"
            ]
          },
          "metadata": {},
          "execution_count": 30
        }
      ]
    },
    {
      "cell_type": "code",
      "source": [
        "df2.head(50).plot(kind=\"bar\", figsize=(20, 10), title='Support Vector Regression')\n",
        "plt.show()"
      ],
      "metadata": {
        "colab": {
          "base_uri": "https://localhost:8080/",
          "height": 591
        },
        "id": "yUrD7sU21g6G",
        "outputId": "f2cefabd-d367-49ed-b3d4-ddcc22fe33ac"
      },
      "execution_count": null,
      "outputs": [
        {
          "output_type": "display_data",
          "data": {
            "text/plain": [
              "<Figure size 1440x720 with 1 Axes>"
            ],
            "image/png": "[encoded data removed]"
          },
          "metadata": {
            "needs_background": "light"
          }
        }
      ]
    },
    {
      "cell_type": "markdown",
      "source": [
        "**Decision Tree Regressor**"
      ],
      "metadata": {
        "id": "szhLamxp3N8Q"
      }
    },
    {
      "cell_type": "code",
      "source": [
        "model3 = DecisionTreeRegressor()\n",
        "model3.fit(X_train, y_train)\n",
        "y_pred3 = model3.predict(X_test)\n",
        "\n",
        "print(\"MAE\",mean_absolute_error(y_test,y_pred3))\n",
        "print(\"MSE\",mean_squared_error(y_test,y_pred3))\n",
        "print(\"R2 score\",r2_score(y_test,y_pred3))"
      ],
      "metadata": {
        "colab": {
          "base_uri": "https://localhost:8080/"
        },
        "id": "sNCvnsgH1g8j",
        "outputId": "13ae100e-96db-43c1-b2fa-d8adab4189bf"
      },
      "execution_count": null,
      "outputs": [
        {
          "output_type": "stream",
          "name": "stdout",
          "text": [
            "MAE 0.05472077461139895\n",
            "MSE 0.007854960306968051\n",
            "R2 score 0.9996934475930002\n"
          ]
        }
      ]
    },
    {
      "cell_type": "code",
      "source": [
        "df3 = pd.DataFrame(list(zip(y_test, y_pred3)), columns=[\"Actual Values\", \"Predicted Values\"])\n",
        "df3.head().style.hide_index()"
      ],
      "metadata": {
        "colab": {
          "base_uri": "https://localhost:8080/",
          "height": 206
        },
        "id": "viWzaf_a1g_C",
        "outputId": "292a7d49-80c7-4179-f19f-4df7f1a950e6"
      },
      "execution_count": null,
      "outputs": [
        {
          "output_type": "execute_result",
          "data": {
            "text/plain": [
              "<pandas.io.formats.style.Styler at 0x7f1703c35370>"
            ],
            "text/html": [
              "<style type=\"text/css\">\n",
              "</style>\n",
              "<table id=\"T_b9189_\" class=\"dataframe\">\n",
              "  <thead>\n",
              "    <tr>\n",
              "      <th class=\"col_heading level0 col0\" >Actual Values</th>\n",
              "      <th class=\"col_heading level0 col1\" >Predicted Values</th>\n",
              "    </tr>\n",
              "  </thead>\n",
              "  <tbody>\n",
              "    <tr>\n",
              "      <td id=\"T_b9189_row0_col0\" class=\"data row0 col0\" >11.700000</td>\n",
              "      <td id=\"T_b9189_row0_col1\" class=\"data row0 col1\" >11.600000</td>\n",
              "    </tr>\n",
              "    <tr>\n",
              "      <td id=\"T_b9189_row1_col0\" class=\"data row1 col0\" >9.300000</td>\n",
              "      <td id=\"T_b9189_row1_col1\" class=\"data row1 col1\" >9.300000</td>\n",
              "    </tr>\n",
              "    <tr>\n",
              "      <td id=\"T_b9189_row2_col0\" class=\"data row2 col0\" >2.370938</td>\n",
              "      <td id=\"T_b9189_row2_col1\" class=\"data row2 col1\" >2.357813</td>\n",
              "    </tr>\n",
              "    <tr>\n",
              "      <td id=\"T_b9189_row3_col0\" class=\"data row3 col0\" >5.910000</td>\n",
              "      <td id=\"T_b9189_row3_col1\" class=\"data row3 col1\" >5.912500</td>\n",
              "    </tr>\n",
              "    <tr>\n",
              "      <td id=\"T_b9189_row4_col0\" class=\"data row4 col0\" >4.355469</td>\n",
              "      <td id=\"T_b9189_row4_col1\" class=\"data row4 col1\" >4.366250</td>\n",
              "    </tr>\n",
              "  </tbody>\n",
              "</table>\n"
            ]
          },
          "metadata": {},
          "execution_count": 33
        }
      ]
    },
    {
      "cell_type": "code",
      "execution_count": null,
      "metadata": {
        "id": "DDqCAYc8QfrS",
        "colab": {
          "base_uri": "https://localhost:8080/",
          "height": 591
        },
        "outputId": "b8bd5233-599d-4675-8163-df47f1d20424"
      },
      "outputs": [
        {
          "output_type": "display_data",
          "data": {
            "text/plain": [
              "<Figure size 1440x720 with 1 Axes>"
            ],
            "image/png": "[encoded data removed]"
          },
          "metadata": {
            "needs_background": "light"
          }
        }
      ],
      "source": [
        "df3.head(50).plot(kind=\"bar\", figsize=(20, 10), title='Decision Tree Regression')\n",
        "plt.show()"
      ]
    },
    {
      "cell_type": "markdown",
      "metadata": {
        "id": "h-xIXmvevXtZ"
      },
      "source": [
        "**By Random Forest:**"
      ]
    },
    {
      "cell_type": "code",
      "execution_count": null,
      "metadata": {
        "id": "6jXVze8cv1rx",
        "colab": {
          "base_uri": "https://localhost:8080/"
        },
        "outputId": "58023ca3-0876-43ad-fb5e-96cd2249e5ed"
      },
      "outputs": [
        {
          "output_type": "stream",
          "name": "stdout",
          "text": [
            "MAE 0.04322891430051818\n",
            "MSE 0.004462978142224509\n",
            "R2 score 0.9998258251298007\n"
          ]
        }
      ],
      "source": [
        "model4 = RandomForestRegressor(n_estimators=100)\n",
        "model4.fit(X_train, y_train)\n",
        "y_pred4 = model4.predict(X_test)\n",
        "\n",
        "print(\"MAE\",mean_absolute_error(y_test,y_pred4))\n",
        "print(\"MSE\",mean_squared_error(y_test,y_pred4))\n",
        "print(\"R2 score\",r2_score(y_test,y_pred4))"
      ]
    },
    {
      "cell_type": "code",
      "execution_count": null,
      "metadata": {
        "id": "JEcl6IaIvI3P",
        "colab": {
          "base_uri": "https://localhost:8080/",
          "height": 206
        },
        "outputId": "f3e5c55b-7837-4fb9-a36e-8b26d5876390"
      },
      "outputs": [
        {
          "output_type": "execute_result",
          "data": {
            "text/plain": [
              "<pandas.io.formats.style.Styler at 0x7f1707adf610>"
            ],
            "text/html": [
              "<style type=\"text/css\">\n",
              "</style>\n",
              "<table id=\"T_40e11_\" class=\"dataframe\">\n",
              "  <thead>\n",
              "    <tr>\n",
              "      <th class=\"col_heading level0 col0\" >Actual Values</th>\n",
              "      <th class=\"col_heading level0 col1\" >Predicted Values</th>\n",
              "    </tr>\n",
              "  </thead>\n",
              "  <tbody>\n",
              "    <tr>\n",
              "      <td id=\"T_40e11_row0_col0\" class=\"data row0 col0\" >11.700000</td>\n",
              "      <td id=\"T_40e11_row0_col1\" class=\"data row0 col1\" >11.662900</td>\n",
              "    </tr>\n",
              "    <tr>\n",
              "      <td id=\"T_40e11_row1_col0\" class=\"data row1 col0\" >9.300000</td>\n",
              "      <td id=\"T_40e11_row1_col1\" class=\"data row1 col1\" >9.302100</td>\n",
              "    </tr>\n",
              "    <tr>\n",
              "      <td id=\"T_40e11_row2_col0\" class=\"data row2 col0\" >2.370938</td>\n",
              "      <td id=\"T_40e11_row2_col1\" class=\"data row2 col1\" >2.371816</td>\n",
              "    </tr>\n",
              "    <tr>\n",
              "      <td id=\"T_40e11_row3_col0\" class=\"data row3 col0\" >5.910000</td>\n",
              "      <td id=\"T_40e11_row3_col1\" class=\"data row3 col1\" >5.930273</td>\n",
              "    </tr>\n",
              "    <tr>\n",
              "      <td id=\"T_40e11_row4_col0\" class=\"data row4 col0\" >4.355469</td>\n",
              "      <td id=\"T_40e11_row4_col1\" class=\"data row4 col1\" >4.340636</td>\n",
              "    </tr>\n",
              "  </tbody>\n",
              "</table>\n"
            ]
          },
          "metadata": {},
          "execution_count": 36
        }
      ],
      "source": [
        "df4 = pd.DataFrame(list(zip(y_test, y_pred4)), columns=[\"Actual Values\", \"Predicted Values\"])\n",
        "df4.head().style.hide_index()"
      ]
    },
    {
      "cell_type": "code",
      "source": [
        "df4.head(50).plot(kind=\"bar\", figsize=(20, 10), title='Random Forest Regression')\n",
        "plt.show()"
      ],
      "metadata": {
        "colab": {
          "base_uri": "https://localhost:8080/",
          "height": 591
        },
        "id": "cFzzOYG14iHZ",
        "outputId": "7d8fcecf-05ab-4530-e160-42fa73fbf107"
      },
      "execution_count": null,
      "outputs": [
        {
          "output_type": "display_data",
          "data": {
            "text/plain": [
              "<Figure size 1440x720 with 1 Axes>"
            ],
            "image/png": "[encoded data removed]"
          },
          "metadata": {
            "needs_background": "light"
          }
        }
      ]
    },
    {
      "cell_type": "markdown",
      "source": [
        "**Visualize the results**"
      ],
      "metadata": {
        "id": "M1ddd1--5VZW"
      }
    },
    {
      "cell_type": "code",
      "source": [
        "accuracy1=r2_score(y_test,y_pred1)\n",
        "accuracy2=r2_score(y_test,y_pred2)\n",
        "accuracy3=r2_score(y_test,y_pred3)\n",
        "accuracy4=r2_score(y_test,y_pred4)\n"
      ],
      "metadata": {
        "id": "9iSVGZKk5UnY"
      },
      "execution_count": null,
      "outputs": []
    },
    {
      "cell_type": "code",
      "source": [
        "dict1 = {\n",
        "    \"Model\": [\"Simple Linear Regression\", \"Support Vector Regression\", \"Decision Tree Regression\", \"Random Forest Regression\"],\n",
        "    \"Accuracy\": np.array([accuracy1, accuracy2, accuracy3, accuracy4])\n",
        "}\n",
        "df = pd.DataFrame(dict1)\n",
        "display(df.style.hide_index())"
      ],
      "metadata": {
        "colab": {
          "base_uri": "https://localhost:8080/",
          "height": 175
        },
        "id": "DIL3VdvI4iOq",
        "outputId": "5b744264-9b7e-4c03-db2d-a09761da846d"
      },
      "execution_count": null,
      "outputs": [
        {
          "output_type": "display_data",
          "data": {
            "text/plain": [
              "<pandas.io.formats.style.Styler at 0x7f1703f77730>"
            ],
            "text/html": [
              "<style type=\"text/css\">\n",
              "</style>\n",
              "<table id=\"T_e0df0_\" class=\"dataframe\">\n",
              "  <thead>\n",
              "    <tr>\n",
              "      <th class=\"col_heading level0 col0\" >Model</th>\n",
              "      <th class=\"col_heading level0 col1\" >Accuracy</th>\n",
              "    </tr>\n",
              "  </thead>\n",
              "  <tbody>\n",
              "    <tr>\n",
              "      <td id=\"T_e0df0_row0_col0\" class=\"data row0 col0\" >Simple Linear Regression</td>\n",
              "      <td id=\"T_e0df0_row0_col1\" class=\"data row0 col1\" >0.999902</td>\n",
              "    </tr>\n",
              "    <tr>\n",
              "      <td id=\"T_e0df0_row1_col0\" class=\"data row1 col0\" >Support Vector Regression</td>\n",
              "      <td id=\"T_e0df0_row1_col1\" class=\"data row1 col1\" >0.999878</td>\n",
              "    </tr>\n",
              "    <tr>\n",
              "      <td id=\"T_e0df0_row2_col0\" class=\"data row2 col0\" >Decision Tree Regression</td>\n",
              "      <td id=\"T_e0df0_row2_col1\" class=\"data row2 col1\" >0.999693</td>\n",
              "    </tr>\n",
              "    <tr>\n",
              "      <td id=\"T_e0df0_row3_col0\" class=\"data row3 col0\" >Random Forest Regression</td>\n",
              "      <td id=\"T_e0df0_row3_col1\" class=\"data row3 col1\" >0.999826</td>\n",
              "    </tr>\n",
              "  </tbody>\n",
              "</table>\n"
            ]
          },
          "metadata": {}
        }
      ]
    },
    {
      "cell_type": "code",
      "source": [
        "models = ['SLR', 'SVR', 'DTR', 'RFR']\n",
        "acc = [accuracy1, accuracy2, accuracy3, accuracy4]\n",
        "plt.figure(figsize=(20, 10))\n",
        "plt.title('Comparision of Accuracies of models')\n",
        "plt.yticks(np.linspace(0,1,21))\n",
        "plt.ylabel(\"Accuracy\")\n",
        "plt.xlabel(\"Models\")\n",
        "values = df.Accuracy\n",
        "plot = sns.barplot(x=models, y=acc, data=values, errwidth=0)\n",
        "plt.show()"
      ],
      "metadata": {
        "colab": {
          "base_uri": "https://localhost:8080/",
          "height": 641
        },
        "id": "Z6nvoBnt4iRd",
        "outputId": "c392a6bb-2183-4ee9-b65d-c3b78c4c2e43"
      },
      "execution_count": null,
      "outputs": [
        {
          "output_type": "display_data",
          "data": {
            "text/plain": [
              "<Figure size 1440x720 with 1 Axes>"
            ],
            "image/png": "[encoded data removed]"
          },
          "metadata": {
            "needs_background": "light"
          }
        }
      ]
    },
    {
      "cell_type": "markdown",
      "source": [
        "**Save the model**"
      ],
      "metadata": {
        "id": "ayU-8b33eXXN"
      }
    },
    {
      "cell_type": "code",
      "source": [
        "import pickle"
      ],
      "metadata": {
        "id": "pWuhFSwxGY4c"
      },
      "execution_count": null,
      "outputs": []
    },
    {
      "cell_type": "code",
      "source": [
        "with open('model1_lr.pkl', 'wb') as f:\n",
        "    pickle.dump(model1, f) # Linear Regression model\n",
        "\n",
        "with open('model2_svm.pkl', 'wb') as f:\n",
        "    pickle.dump(model2, f)\n",
        "\n",
        "with open('model3_dt.pkl', 'wb') as f:\n",
        "    pickle.dump(model3, f)\n",
        "\n",
        "with open('model4_rf.pkl', 'wb') as f:\n",
        "    pickle.dump(model4, f)\n",
        "\n"
      ],
      "metadata": {
        "id": "f0Co5csXecEM"
      },
      "execution_count": null,
      "outputs": []
    },
    {
      "cell_type": "code",
      "source": [],
      "metadata": {
        "id": "YC5Pan3ut-RK"
      },
      "execution_count": null,
      "outputs": []
    }
  ],
  "metadata": {
    "colab": {
      "provenance": []
    },
    "kernelspec": {
      "display_name": "Python 3",
      "name": "python3"
    },
    "language_info": {
      "name": "python"
    }
  },
  "nbformat": 4,
  "nbformat_minor": 0
}